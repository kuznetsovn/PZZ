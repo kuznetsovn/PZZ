{
 "cells": [
  {
   "cell_type": "code",
   "execution_count": 1,
   "metadata": {
    "collapsed": true
   },
   "outputs": [],
   "source": [
    "import warnings\n",
    "warnings.filterwarnings('ignore')\n",
    "\n",
    "from yargy.interpretation import InterpretationEngine\n",
    "from natasha import Combinator, Address\n",
    "from natasha.grammars.location import AddressObject\n",
    "\n",
    "from matplotlib import pyplot as plt\n",
    "%matplotlib inline\n",
    "import seaborn as sns\n",
    "\n",
    "import numpy as np\n",
    "import pandas as pd\n",
    "\n",
    "import requests\n",
    "import json\n",
    "import re\n",
    "\n",
    "from tqdm import tqdm"
   ]
  },
  {
   "cell_type": "code",
   "execution_count": 2,
   "metadata": {
    "collapsed": true
   },
   "outputs": [],
   "source": [
    "c2a_filename = 'data_original/cache_comment2address.json'\n",
    "a2g_filename = 'data_original/cache_address2geocode.json'"
   ]
  },
  {
   "cell_type": "code",
   "execution_count": 3,
   "metadata": {
    "collapsed": true
   },
   "outputs": [],
   "source": [
    "class ExtractAddresses:\n",
    "    \"\"\"\n",
    "    класс с помощью либы natasha извлекает из 1 строчки текста список строчек с улицами\n",
    "    * все преобразования кешируются в рамках одного объекта, кеш можно сохранять и загружать при создании нового объекта\n",
    "    * кеш нужно сохранять принудительно после обработки нужного списка, .save_cache()\n",
    "    * все площади фильтруются в данном примере, так как 99% упоминаний площадей не являются площадьми, кроме конкретных московских плоащдей. Их форма была получена прогоном нормальных названий площадей через этот класс\n",
    "    * есть также некоторый блеклист улиц, которые удаляются\n",
    "    \"\"\"\n",
    "    combinator = Combinator([Address])\n",
    "    engine = InterpretationEngine(AddressObject)\n",
    "    squares = {'автозаводская площадь', 'андроньевская площадь', 'арбатская площадь', 'биржевая площадь', 'болотная площадь', 'большая сухаревская площадь', 'боровицкая площадь', 'вешняковская площадь', 'вокзальная площадь', 'госпитальная площадь', 'грузинская площадь', 'даниловская площадь', 'дворцовая площадь', 'елоховская площадь', 'зацепская площадь', 'земляной вал', 'зубовская площадь', 'ивановская площадь', 'измайловская площадь', 'калужская площадь', 'комсомольская площадь', 'красная площадь', 'красноказарменная площадь', 'краснокурсантская площадь', 'крестьянская площадь', 'крымская площадь', 'лермонтовская площадь', 'лефортовская площадь', 'лубянская площадь', 'лялина площадь', 'малая сухаревская площадь', 'манежная площадь', 'миусская площадь', 'новая площадь', 'новоконная площадь', 'озёрная площадь', 'павелецкая площадь', 'песчаная площадь', 'площадь абельмановская', 'площадь академика', 'площадь академика вишневского', 'площадь академика келдыша', 'площадь академика курчатова', 'площадь академика петрова', 'площадь академика прохорова', 'площадь академика тамма', 'площадь амилкара кабрала', 'площадь арбатский ворота', 'площадь белы', 'площадь борьбы', 'площадь варварский ворота', 'площадь васильевский', 'площадь воровской', 'площадь гагарина', 'площадь ганецкий', 'площадь генерала жадова', 'площадь героев', 'площадь джавахарлала', 'площадь европы', 'площадь журавлёва', 'площадь защитников', 'площадь звёзд эстрады', 'площадь зденека', 'площадь индиры ганди', 'площадь иосипа броз тито', 'площадь киевский вокзал', 'площадь композитора балакирева', 'площадь космонавта комарова', 'площадь краснопресненская', 'площадь красный ворота', 'площадь курский вокзал', 'площадь мартина лютера кинга', 'площадь маршала бабаджаняна', 'площадь московско-минская дивизия', 'площадь новодевичий монастырь', 'площадь петровский ворота', 'площадь победы', 'площадь пречистенский ворота', 'площадь проломная', 'площадь раскова', 'площадь революции', 'площадь рогожская', 'площадь ромена роллана', 'площадь савёловский вокзал', 'площадь свободная россия', 'площадь серпуховская', 'площадь славы', 'площадь сретенский ворота', 'площадь тверская', 'площадь туманяна', 'площадь фиделя кастро', 'площадь цезаря куникова', 'площадь шарля', 'площадь эрнста тельмана', 'площадь яузский ворота', 'преображенская площадь', 'пушкинская площадь', 'рижская площадь', 'самотёчная площадь', 'севастопольская площадь', 'семёновская площадь', 'сенатская площадь', 'серпуховская площадь', 'славянская площадь', 'смоленская площадь', 'смоленская-сенная площадь', 'соборная площадь', 'сокольническая площадь', 'спартаковская площадь', 'спасопесковская площадь', 'старая площадь', 'суворовская площадь', 'таганская площадь', 'тверская площадь', 'театральная площадь', 'тишинская площадь', 'триумфальная площадь', 'трубная площадь', 'тургеневская площадь', 'тушинская площадь', 'университетская площадь', 'хитровская площадь', 'хохловская площадь'}\n",
    "    streets_to_delete = {'расширения дорога', 'части улица', 'проездом строительная техника', 'новое дорога', 'открытое шоссе', 'наш измайловский проспект', 'домовладения ул .', 'весь проезд', 'ограниченного улица', 'общегородского значения проспект', 'проектирумый проезд', 'дома ул .', 'дорога ярославское направление', 'благоустройства набережная', 'общедоступный площади .', 'проезжая дорога', 'эта дорога', 'дорога районное значение', 'улучшения набережная', 'проектирумый проезд 317', 'близлежащий улица', 'широкополосная дорога', 'четырех-полосная дорога', 'хороший дорога', 'улица новая', 'моя улица'}\n",
    "\n",
    "    def __init__(self, cache_filename=None):\n",
    "        self.cache_filename = cache_filename\n",
    "        if cache_filename:\n",
    "            try:\n",
    "                with open(cache_filename, encoding='utf8') as file:\n",
    "                    self.cached_result = json.loads(file.read())\n",
    "            except:\n",
    "                self.cached_result = {}\n",
    "                self.save_cache()\n",
    "        else:\n",
    "            self.cached_result = {}\n",
    "\n",
    "    def save_cache(self):\n",
    "        with open(self.cache_filename, 'w', encoding='utf8') as outfile:\n",
    "            data = json.dumps(self.cached_result, ensure_ascii=False, sort_keys=True)\n",
    "            outfile.write(data)\n",
    "            \n",
    "    def _filter_address(self, address_list):\n",
    "        return list(set([a for a in address_list if a not in ExtractAddresses.streets_to_delete and ('площадь' not in a or a in ExtractAddresses.squares)]))\n",
    "\n",
    "    def __call__(self, comment):\n",
    "        comment = str(comment)\n",
    "        if comment in self.cached_result:\n",
    "            return self.cached_result[comment]\n",
    "        natasha_result = list(ExtractAddresses.engine.extract(ExtractAddresses.combinator.resolve_matches(ExtractAddresses.combinator.extract(comment))))\n",
    "        addresses = list(set([a.normalized for a in natasha_result]))\n",
    "        self.cached_result.update({comment: addresses})\n",
    "        return addresses"
   ]
  },
  {
   "cell_type": "code",
   "execution_count": 4,
   "metadata": {
    "collapsed": true
   },
   "outputs": [],
   "source": [
    "class GeocodeAddress:\n",
    "    \"\"\"\n",
    "    класс переводит текстовую строчки с адресом (или список таких строк) в геометки с помощью Я.Декодер\n",
    "    * все преобразования кешируются в рамках одного объекта, кеш можно сохранять и загружать при создании нового объекта\n",
    "    * кеш нужно сохранять принудительно после обработки нужного списка, .save_cache()\n",
    "    * здесь фильтруются только нужные города, лишние геометки не возвращаются\n",
    "    \"\"\"\n",
    "    def __init__(self, cache_filename=None):\n",
    "        self.cache_filename = cache_filename\n",
    "        if cache_filename:\n",
    "            try:\n",
    "                with open(cache_filename, encoding='utf8') as file:\n",
    "                    self.cached_result = json.loads(file.read())\n",
    "            except:\n",
    "                self.cached_result = {}\n",
    "                self.save_cache()\n",
    "        else:\n",
    "            self.cached_result = {}\n",
    "\n",
    "    def save_cache(self):\n",
    "        with open(self.cache_filename, 'w', encoding='utf8') as outfile:\n",
    "            data = json.dumps(self.cached_result, ensure_ascii=False, sort_keys=True)\n",
    "            outfile.write(data)\n",
    "            \n",
    "    def _call_geocoder(self, address):\n",
    "        response = requests.get(\n",
    "            'http://geocode-maps.yandex.ru/1.x/',\n",
    "            params={\n",
    "                'format': 'json',\n",
    "                'geocode': address\n",
    "            }\n",
    "        )\n",
    "        return response\n",
    "    \n",
    "    def _parse_geocode_result(self, response):\n",
    "        try:\n",
    "            geo_object = response.json()['response']['GeoObjectCollection']['featureMember'][0]['GeoObject']\n",
    "            geo_object_address = geo_object['metaDataProperty']['GeocoderMetaData']['Address']['Components']\n",
    "            point_str = geo_object['Point']['pos']\n",
    "            try:\n",
    "                city = [i['name'] for i in geo_object_address if 'locality' in i.values()][0]\n",
    "            except:\n",
    "                city = None\n",
    "            try:\n",
    "                street = [i['name'] for i in geo_object_address if 'street' in i.values()][0]\n",
    "            except:\n",
    "                street = None\n",
    "            try:\n",
    "                house = [i['name'] for i in geo_object_address if 'house' in i.values()][0]\n",
    "            except:\n",
    "                house = None\n",
    "            return {\n",
    "                'coordinates': [float(t) for t in point_str.split()],\n",
    "                'name': geo_object['name'],\n",
    "                'city': city,\n",
    "                'street': street,\n",
    "                'house': house\n",
    "            }\n",
    "        except:\n",
    "            return None\n",
    "    \n",
    "    def _filter_geocode(self, geocode):\n",
    "        cities_interested_in = {'Москва', 'Балашиха', 'Видное', 'Долгопрудный', 'Зеленоград', 'Королёв', 'Красногорск', 'Люберцы', 'Мытищи', 'Одинцово', 'Реутов', 'Химки'}\n",
    "        has_city = geocode and 'city' in geocode\n",
    "        city_fits = has_city and geocode['city'] in cities_interested_in\n",
    "        not_just_city = has_city and geocode['name'] not in cities_interested_in\n",
    "        return geocode if has_city and city_fits and not_just_city else None\n",
    "\n",
    "    def _make_geocode(self, address):\n",
    "        if address in self.cached_result:\n",
    "            return self.cached_result[address]\n",
    "        geocode = self._filter_geocode(self._parse_geocode_result(self._call_geocoder(address)))\n",
    "        self.cached_result.update({address: geocode})\n",
    "        return geocode\n",
    "    \n",
    "    def __call__(self, address, filter_None = True):\n",
    "        if not isinstance(address, list):\n",
    "            return self._make_geocode(str(address))\n",
    "        elif isinstance(address, list):\n",
    "            address = list(set(address))\n",
    "            r = [self._make_geocode(a) for a in address]\n",
    "            if filter_None:\n",
    "                r = [g for g in r if g]\n",
    "                names = set()\n",
    "                rr = []\n",
    "                for i in r:\n",
    "                    try:\n",
    "                        if i['name'] not in names:\n",
    "                            names.add(i['name'])\n",
    "                            rr.append(i)\n",
    "                    except:\n",
    "                        print(r)\n",
    "                        print(i)\n",
    "                        1/0\n",
    "            return rr"
   ]
  },
  {
   "cell_type": "markdown",
   "metadata": {
    "collapsed": true
   },
   "source": [
    "# Получаем геометки для ранее полученных данных"
   ]
  },
  {
   "cell_type": "code",
   "execution_count": 5,
   "metadata": {
    "collapsed": true
   },
   "outputs": [],
   "source": [
    "df = pd.read_excel('data_progress/3 PZZ.xlsx')"
   ]
  },
  {
   "cell_type": "code",
   "execution_count": 6,
   "metadata": {
    "collapsed": true
   },
   "outputs": [],
   "source": [
    "c2a = ExtractAddresses(cache_filename=c2a_filename)\n",
    "a2g = GeocodeAddress(cache_filename=a2g_filename)"
   ]
  },
  {
   "cell_type": "code",
   "execution_count": 7,
   "metadata": {},
   "outputs": [
    {
     "name": "stdout",
     "output_type": "stream",
     "text": [
      "29980 5411\n"
     ]
    }
   ],
   "source": [
    "print(len(c2a.cached_result), len(a2g.cached_result))"
   ]
  },
  {
   "cell_type": "markdown",
   "metadata": {},
   "source": [
    "*занимает ~ час без кэша, моментально с полным кэшем*"
   ]
  },
  {
   "cell_type": "code",
   "execution_count": 8,
   "metadata": {},
   "outputs": [
    {
     "name": "stderr",
     "output_type": "stream",
     "text": [
      "100%|██████████| 114011/114011 [00:00<00:00, 147348.66it/s]\n"
     ]
    }
   ],
   "source": [
    "addresses = [c2a(c) for c in tqdm(df.comment)]\n",
    "c2a.save_cache()"
   ]
  },
  {
   "cell_type": "markdown",
   "metadata": {},
   "source": [
    "*занимает ~ час без кэша, моментально с полным кэшем*"
   ]
  },
  {
   "cell_type": "code",
   "execution_count": 9,
   "metadata": {
    "scrolled": false
   },
   "outputs": [
    {
     "name": "stderr",
     "output_type": "stream",
     "text": [
      "100%|██████████| 114011/114011 [00:01<00:00, 81766.65it/s]\n"
     ]
    }
   ],
   "source": [
    "geocodes = [a2g(['Москва '+a for a in addresses_list]) for addresses_list in tqdm(addresses)]\n",
    "a2g.save_cache()"
   ]
  },
  {
   "cell_type": "code",
   "execution_count": 10,
   "metadata": {
    "collapsed": true
   },
   "outputs": [],
   "source": [
    "df['geocodes'] = geocodes"
   ]
  },
  {
   "cell_type": "code",
   "execution_count": 11,
   "metadata": {
    "collapsed": true
   },
   "outputs": [],
   "source": [
    "df['geocodes_number'] = df.geocodes.apply(len)"
   ]
  },
  {
   "cell_type": "code",
   "execution_count": 12,
   "metadata": {},
   "outputs": [
    {
     "data": {
      "text/plain": [
       "0     76646\n",
       "1     19641\n",
       "2      9084\n",
       "3      4720\n",
       "4      2717\n",
       "5       802\n",
       "6        55\n",
       "7       218\n",
       "8        19\n",
       "9        19\n",
       "10       20\n",
       "11        5\n",
       "12        3\n",
       "13        4\n",
       "14       28\n",
       "15        1\n",
       "16        2\n",
       "17        3\n",
       "18        1\n",
       "21       16\n",
       "22        2\n",
       "23        1\n",
       "24        1\n",
       "25        1\n",
       "26        1\n",
       "27        1\n",
       "Name: geocodes_number, dtype: int64"
      ]
     },
     "execution_count": 12,
     "metadata": {},
     "output_type": "execute_result"
    }
   ],
   "source": [
    "df.geocodes_number.value_counts().sort_index()"
   ]
  },
  {
   "cell_type": "code",
   "execution_count": 13,
   "metadata": {},
   "outputs": [
    {
     "data": {
      "text/html": [
       "<div>\n",
       "<table border=\"1\" class=\"dataframe\">\n",
       "  <thead>\n",
       "    <tr style=\"text-align: right;\">\n",
       "      <th></th>\n",
       "      <th>fio</th>\n",
       "      <th>comment</th>\n",
       "      <th>resolution</th>\n",
       "      <th>part</th>\n",
       "      <th>page</th>\n",
       "      <th>exact_page</th>\n",
       "      <th>orig_id</th>\n",
       "      <th>list_flag</th>\n",
       "      <th>fio_n</th>\n",
       "      <th>fio_n_popularity</th>\n",
       "      <th>...</th>\n",
       "      <th>comment_list_popularity</th>\n",
       "      <th>multiplier</th>\n",
       "      <th>comment_class_manual</th>\n",
       "      <th>resolution_class_manual</th>\n",
       "      <th>comment_class_prediction</th>\n",
       "      <th>resolution_class_prediction</th>\n",
       "      <th>comment_class</th>\n",
       "      <th>resolution_class</th>\n",
       "      <th>geocodes</th>\n",
       "      <th>geocodes_number</th>\n",
       "    </tr>\n",
       "  </thead>\n",
       "  <tbody>\n",
       "    <tr>\n",
       "      <th>0</th>\n",
       "      <td>Захаренко В. А.</td>\n",
       "      <td>Во все разделы правил землепользования и застр...</td>\n",
       "      <td>Предложения, относящиеся к предмету публичных ...</td>\n",
       "      <td>1</td>\n",
       "      <td>1</td>\n",
       "      <td>True</td>\n",
       "      <td>0</td>\n",
       "      <td>False</td>\n",
       "      <td>Захаренко В. А.</td>\n",
       "      <td>2.0</td>\n",
       "      <td>...</td>\n",
       "      <td>1</td>\n",
       "      <td>1</td>\n",
       "      <td>-1.0</td>\n",
       "      <td>-1.0</td>\n",
       "      <td>-1</td>\n",
       "      <td>-1</td>\n",
       "      <td>-1</td>\n",
       "      <td>-1</td>\n",
       "      <td>[{'street': '1-й Самотёчный переулок', 'name':...</td>\n",
       "      <td>1</td>\n",
       "    </tr>\n",
       "    <tr>\n",
       "      <th>1</th>\n",
       "      <td>Калантарова Ю. В.</td>\n",
       "      <td>На основании вступившего в законную силу судеб...</td>\n",
       "      <td>Предложения, относящиеся к предмету публичных ...</td>\n",
       "      <td>1</td>\n",
       "      <td>1</td>\n",
       "      <td>True</td>\n",
       "      <td>1</td>\n",
       "      <td>False</td>\n",
       "      <td>Калантарова Ю. В.</td>\n",
       "      <td>3.0</td>\n",
       "      <td>...</td>\n",
       "      <td>1</td>\n",
       "      <td>1</td>\n",
       "      <td>-1.0</td>\n",
       "      <td>-1.0</td>\n",
       "      <td>-1</td>\n",
       "      <td>-1</td>\n",
       "      <td>-1</td>\n",
       "      <td>-1</td>\n",
       "      <td>[{'street': '1-й Самотёчный переулок', 'name':...</td>\n",
       "      <td>1</td>\n",
       "    </tr>\n",
       "    <tr>\n",
       "      <th>2</th>\n",
       "      <td>Ткач Е. В.</td>\n",
       "      <td>В картах ПЗЗ не отражены \"Защитные зоны ОКН\" (...</td>\n",
       "      <td>Замечание рекомендовано к учёту. Рекомендовать...</td>\n",
       "      <td>1</td>\n",
       "      <td>5</td>\n",
       "      <td>True</td>\n",
       "      <td>2</td>\n",
       "      <td>False</td>\n",
       "      <td>Ткач Е. В.</td>\n",
       "      <td>4.0</td>\n",
       "      <td>...</td>\n",
       "      <td>1</td>\n",
       "      <td>1</td>\n",
       "      <td>-1.0</td>\n",
       "      <td>-1.0</td>\n",
       "      <td>-1</td>\n",
       "      <td>-1</td>\n",
       "      <td>-1</td>\n",
       "      <td>-1</td>\n",
       "      <td>[]</td>\n",
       "      <td>0</td>\n",
       "    </tr>\n",
       "    <tr>\n",
       "      <th>3</th>\n",
       "      <td>Крупенина О. Н.</td>\n",
       "      <td>На карте Градостроительного зонирования \"Грани...</td>\n",
       "      <td>1. Предложение предусмотрено проектом ПЗЗ. На ...</td>\n",
       "      <td>1</td>\n",
       "      <td>6</td>\n",
       "      <td>True</td>\n",
       "      <td>3</td>\n",
       "      <td>False</td>\n",
       "      <td>Крупенина О. Н.</td>\n",
       "      <td>1.0</td>\n",
       "      <td>...</td>\n",
       "      <td>1</td>\n",
       "      <td>1</td>\n",
       "      <td>1.0</td>\n",
       "      <td>-1.0</td>\n",
       "      <td>-1</td>\n",
       "      <td>-1</td>\n",
       "      <td>1</td>\n",
       "      <td>-1</td>\n",
       "      <td>[]</td>\n",
       "      <td>0</td>\n",
       "    </tr>\n",
       "    <tr>\n",
       "      <th>4</th>\n",
       "      <td>Терехов А. С.</td>\n",
       "      <td>Внести в Проект правил землепользования и заст...</td>\n",
       "      <td>Предложение не рекомендовано к учёту. Отсутств...</td>\n",
       "      <td>1</td>\n",
       "      <td>6</td>\n",
       "      <td>True</td>\n",
       "      <td>4</td>\n",
       "      <td>False</td>\n",
       "      <td>Терехов А. С.</td>\n",
       "      <td>2.0</td>\n",
       "      <td>...</td>\n",
       "      <td>1</td>\n",
       "      <td>1</td>\n",
       "      <td>-1.0</td>\n",
       "      <td>-1.0</td>\n",
       "      <td>-1</td>\n",
       "      <td>-1</td>\n",
       "      <td>-1</td>\n",
       "      <td>-1</td>\n",
       "      <td>[{'street': '2-й Обыденский переулок', 'name':...</td>\n",
       "      <td>1</td>\n",
       "    </tr>\n",
       "  </tbody>\n",
       "</table>\n",
       "<p>5 rows × 24 columns</p>\n",
       "</div>"
      ],
      "text/plain": [
       "                 fio                                            comment  \\\n",
       "0    Захаренко В. А.  Во все разделы правил землепользования и застр...   \n",
       "1  Калантарова Ю. В.  На основании вступившего в законную силу судеб...   \n",
       "2         Ткач Е. В.  В картах ПЗЗ не отражены \"Защитные зоны ОКН\" (...   \n",
       "3    Крупенина О. Н.  На карте Градостроительного зонирования \"Грани...   \n",
       "4      Терехов А. С.  Внести в Проект правил землепользования и заст...   \n",
       "\n",
       "                                          resolution  part  page exact_page  \\\n",
       "0  Предложения, относящиеся к предмету публичных ...     1     1       True   \n",
       "1  Предложения, относящиеся к предмету публичных ...     1     1       True   \n",
       "2  Замечание рекомендовано к учёту. Рекомендовать...     1     5       True   \n",
       "3  1. Предложение предусмотрено проектом ПЗЗ. На ...     1     6       True   \n",
       "4  Предложение не рекомендовано к учёту. Отсутств...     1     6       True   \n",
       "\n",
       "   orig_id list_flag              fio_n  fio_n_popularity       ...         \\\n",
       "0        0     False    Захаренко В. А.               2.0       ...          \n",
       "1        1     False  Калантарова Ю. В.               3.0       ...          \n",
       "2        2     False         Ткач Е. В.               4.0       ...          \n",
       "3        3     False    Крупенина О. Н.               1.0       ...          \n",
       "4        4     False      Терехов А. С.               2.0       ...          \n",
       "\n",
       "   comment_list_popularity  multiplier  comment_class_manual  \\\n",
       "0                        1           1                  -1.0   \n",
       "1                        1           1                  -1.0   \n",
       "2                        1           1                  -1.0   \n",
       "3                        1           1                   1.0   \n",
       "4                        1           1                  -1.0   \n",
       "\n",
       "   resolution_class_manual  comment_class_prediction  \\\n",
       "0                     -1.0                        -1   \n",
       "1                     -1.0                        -1   \n",
       "2                     -1.0                        -1   \n",
       "3                     -1.0                        -1   \n",
       "4                     -1.0                        -1   \n",
       "\n",
       "   resolution_class_prediction  comment_class  resolution_class  \\\n",
       "0                           -1             -1                -1   \n",
       "1                           -1             -1                -1   \n",
       "2                           -1             -1                -1   \n",
       "3                           -1              1                -1   \n",
       "4                           -1             -1                -1   \n",
       "\n",
       "                                            geocodes  geocodes_number  \n",
       "0  [{'street': '1-й Самотёчный переулок', 'name':...                1  \n",
       "1  [{'street': '1-й Самотёчный переулок', 'name':...                1  \n",
       "2                                                 []                0  \n",
       "3                                                 []                0  \n",
       "4  [{'street': '2-й Обыденский переулок', 'name':...                1  \n",
       "\n",
       "[5 rows x 24 columns]"
      ]
     },
     "execution_count": 13,
     "metadata": {},
     "output_type": "execute_result"
    }
   ],
   "source": [
    "df.head()"
   ]
  },
  {
   "cell_type": "code",
   "execution_count": 14,
   "metadata": {
    "collapsed": true
   },
   "outputs": [],
   "source": [
    "df.to_excel('data_progress/4 PZZ.xlsx')"
   ]
  },
  {
   "cell_type": "markdown",
   "metadata": {},
   "source": [
    "------"
   ]
  },
  {
   "cell_type": "markdown",
   "metadata": {},
   "source": [
    "# Посмотрим на разнообразие полученных координат"
   ]
  },
  {
   "cell_type": "code",
   "execution_count": 15,
   "metadata": {
    "collapsed": true
   },
   "outputs": [],
   "source": [
    "from collections import Counter"
   ]
  },
  {
   "cell_type": "code",
   "execution_count": 16,
   "metadata": {
    "collapsed": true
   },
   "outputs": [],
   "source": [
    "geocodes_l = sum(df.geocodes,[])"
   ]
  },
  {
   "cell_type": "code",
   "execution_count": 17,
   "metadata": {},
   "outputs": [
    {
     "data": {
      "text/plain": [
       "{'city': 'Москва',\n",
       " 'coordinates': [37.612416, 55.777454],\n",
       " 'house': None,\n",
       " 'name': '1-й Самотёчный переулок',\n",
       " 'street': '1-й Самотёчный переулок'}"
      ]
     },
     "execution_count": 17,
     "metadata": {},
     "output_type": "execute_result"
    }
   ],
   "source": [
    "geocodes_l[0]"
   ]
  },
  {
   "cell_type": "code",
   "execution_count": 18,
   "metadata": {},
   "outputs": [
    {
     "data": {
      "text/plain": [
       "[<matplotlib.lines.Line2D at 0x111139b70>]"
      ]
     },
     "execution_count": 18,
     "metadata": {},
     "output_type": "execute_result"
    },
    {
     "data": {
      "image/png": "[encoded data removed]",
      "text/plain": [
       "<matplotlib.figure.Figure at 0x1115c31d0>"
      ]
     },
     "metadata": {},
     "output_type": "display_data"
    }
   ],
   "source": [
    "coordinates = [l['coordinates'] for l in geocodes_l if l]\n",
    "x = [coordinate[0] for coordinate in coordinates]\n",
    "y = [coordinate[1] for coordinate in coordinates]\n",
    "\n",
    "plt.plot(x,y,'ro',alpha=0.01)"
   ]
  },
  {
   "cell_type": "code",
   "execution_count": 19,
   "metadata": {},
   "outputs": [
    {
     "data": {
      "text/plain": [
       "[('Москва', 70324),\n",
       " ('Мытищи', 27),\n",
       " ('Зеленоград', 16),\n",
       " ('Химки', 6),\n",
       " ('Видное', 3),\n",
       " ('Балашиха', 2),\n",
       " ('Королёв', 2),\n",
       " ('Красногорск', 1),\n",
       " ('Долгопрудный', 1)]"
      ]
     },
     "execution_count": 19,
     "metadata": {},
     "output_type": "execute_result"
    }
   ],
   "source": [
    "Counter([l['city'] for l in geocodes_l if l]).most_common()"
   ]
  },
  {
   "cell_type": "code",
   "execution_count": 20,
   "metadata": {},
   "outputs": [
    {
     "data": {
      "text/plain": [
       "Counter({False: 55001, True: 15381})"
      ]
     },
     "execution_count": 20,
     "metadata": {},
     "output_type": "execute_result"
    }
   ],
   "source": [
    "Counter([g['house'] is not None for g in geocodes_l])"
   ]
  },
  {
   "cell_type": "code",
   "execution_count": 21,
   "metadata": {},
   "outputs": [
    {
     "data": {
      "text/plain": [
       "Counter({False: 140, True: 70242})"
      ]
     },
     "execution_count": 21,
     "metadata": {},
     "output_type": "execute_result"
    }
   ],
   "source": [
    "Counter([g['street'] is not None for g in geocodes_l])"
   ]
  },
  {
   "cell_type": "code",
   "execution_count": 22,
   "metadata": {},
   "outputs": [
    {
     "data": {
      "text/plain": [
       "[('детский парк Фили', 57),\n",
       " ('жилой комплекс Воробьёв Дом', 44),\n",
       " ('монорельс Улица Милашенкова', 8),\n",
       " ('территория Дьяковское', 5),\n",
       " ('жилой комплекс Царская Площадь', 5),\n",
       " ('77-й квартал района Вешняки', 4),\n",
       " ('Курский вокзал', 3),\n",
       " ('Главный ботанический сад имени Н.В. Цицина Российской академии наук', 3),\n",
       " ('метро Улица Горчакова', 2),\n",
       " ('Киевский вокзал', 2),\n",
       " ('посёлок Ильинский', 2),\n",
       " ('район Проспект Вернадского', 1),\n",
       " ('жилой комплекс Родной город. Октябрьское Поле', 1),\n",
       " ('жилой квартал На Базовской', 1),\n",
       " ('комплекс жилых домов Сущёвка', 1),\n",
       " ('Новый сквер', 1)]"
      ]
     },
     "execution_count": 22,
     "metadata": {},
     "output_type": "execute_result"
    }
   ],
   "source": [
    "Counter([g['name'] for g in geocodes_l if g['street'] is None ]).most_common()"
   ]
  },
  {
   "cell_type": "code",
   "execution_count": 23,
   "metadata": {
    "scrolled": false
   },
   "outputs": [
    {
     "data": {
      "text/plain": [
       "[('Ленинградское шоссе', 7341),\n",
       " ('шоссе Энтузиастов', 4652),\n",
       " ('Живописная улица', 4256),\n",
       " ('улица Золоторожский Вал', 4235),\n",
       " ('11-я Парковая улица', 2879),\n",
       " ('мост Богдана Хмельницкого', 2804),\n",
       " ('Автомобильный проезд', 2741),\n",
       " ('улица Героев Панфиловцев', 2136),\n",
       " ('Волжский бульвар', 1583),\n",
       " ('Щёлковское шоссе', 1567),\n",
       " ('Парковая улица', 1560),\n",
       " ('улица Константина Федина', 1546),\n",
       " ('Солдатская улица', 1225),\n",
       " ('Пятницкое шоссе', 1070),\n",
       " ('Митинская улица', 1066),\n",
       " ('Таможенный проезд', 974),\n",
       " ('Профсоюзная улица', 974),\n",
       " ('улица Свободы', 959),\n",
       " ('1-й Земельный переулок', 771),\n",
       " ('Солдатский переулок', 702),\n",
       " ('Туристская улица', 677),\n",
       " ('Авиамоторная улица', 649),\n",
       " ('Боровая улица', 648),\n",
       " ('Юрьевский переулок', 648),\n",
       " ('Нахимовский проспект', 647),\n",
       " ('Таллинская улица', 511),\n",
       " ('Строгинское шоссе', 508),\n",
       " ('Мичуринский проспект', 493),\n",
       " ('Новопесчаная улица', 491),\n",
       " ('Новодевичий проезд', 490),\n",
       " ('Ленинский проспект', 476),\n",
       " ('Лосиноостровская улица', 469),\n",
       " ('Погодинская улица', 455),\n",
       " ('Ярославское шоссе', 429),\n",
       " ('площадь Рогожская Застава', 380),\n",
       " ('Янтарный проезд', 371),\n",
       " ('улица Тимура Фрунзе', 368),\n",
       " ('Шушенская улица', 364),\n",
       " ('Судостроительная улица', 354),\n",
       " ('улица Светланова', 291),\n",
       " ('Раменский бульвар', 291),\n",
       " ('Ивановская улица', 278),\n",
       " ('улица Вавилова', 273),\n",
       " ('Измайловский проезд', 270),\n",
       " ('улица Тихомирова', 264),\n",
       " ('Старокалужское шоссе', 255),\n",
       " ('проспект Вернадского', 253),\n",
       " ('улица Академика Челомея', 252),\n",
       " ('Соколово-Мещерская улица', 239),\n",
       " ('улица Коминтерна', 238),\n",
       " ('Юровская улица', 231),\n",
       " ('Ломоносовский проспект', 192),\n",
       " ('Новая улица', 191),\n",
       " ('улица Довженко', 180),\n",
       " ('улица Академика Комарова', 175),\n",
       " ('Дмитровское шоссе', 174),\n",
       " ('проспект Маршала Жукова', 174),\n",
       " ('Песчаная улица', 162),\n",
       " ('Михалковская улица', 159),\n",
       " ('бульвар Яна Райниса', 150)]"
      ]
     },
     "execution_count": 23,
     "metadata": {},
     "output_type": "execute_result"
    }
   ],
   "source": [
    "Counter([g['street'] for g in geocodes_l]).most_common()[:60]"
   ]
  },
  {
   "cell_type": "markdown",
   "metadata": {},
   "source": [
    "------"
   ]
  }
 ],
 "metadata": {
  "anaconda-cloud": {},
  "kernelspec": {
   "display_name": "Python [Root]",
   "language": "python",
   "name": "Python [Root]"
  },
  "language_info": {
   "codemirror_mode": {
    "name": "ipython",
    "version": 3
   },
   "file_extension": ".py",
   "mimetype": "text/x-python",
   "name": "python",
   "nbconvert_exporter": "python",
   "pygments_lexer": "ipython3",
   "version": "3.5.2"
  }
 },
 "nbformat": 4,
 "nbformat_minor": 2
}
