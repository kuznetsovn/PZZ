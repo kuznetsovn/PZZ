{
 "cells": [
  {
   "cell_type": "code",
   "execution_count": 1,
   "metadata": {
    "collapsed": true
   },
   "outputs": [],
   "source": [
    "import warnings\n",
    "warnings.filterwarnings('ignore')\n",
    "\n",
    "from matplotlib import pyplot as plt\n",
    "%matplotlib inline\n",
    "import seaborn as sns\n",
    "\n",
    "import pandas as pd\n",
    "import numpy as np\n",
    "import re\n",
    "import json\n",
    "\n",
    "from tqdm import tqdm"
   ]
  },
  {
   "cell_type": "code",
   "execution_count": 2,
   "metadata": {
    "collapsed": true
   },
   "outputs": [],
   "source": [
    "xls_path = 'data_original/acrobat/'\n",
    "exceptions_should_not_be_appended = json.loads(open(\"data_original/exceptions_should_not_be_appended.json\", encoding='utf8').read())\n",
    "exceptions_should_be_appended = json.loads(open(\"data_original/exceptions_should_be_appended.json\", encoding='utf8').read())"
   ]
  },
  {
   "cell_type": "code",
   "execution_count": 3,
   "metadata": {
    "collapsed": true
   },
   "outputs": [],
   "source": [
    "def isnan(t):\n",
    "    if t is None:\n",
    "        return True\n",
    "    try:\n",
    "        return np.isnan(t)\n",
    "    except:\n",
    "        return False\n",
    "\n",
    "def convert_nothing_to_none(t):\n",
    "    return None if isnan(t) or str(t).strip()=='' else str(t)\n",
    "\n",
    "def normalize_row(v):\n",
    "    return [v[0], v[1] or '', v[2] or '']\n",
    "\n",
    "def sum_2_str(f1,f2):\n",
    "    return ((f1 or '')+' '+(f2 or '')).strip() # здесь неразрывный пробел, чтобы потом было удобнее разбивать\n",
    "\n",
    "def add_row_to_row(v1, v2):\n",
    "    return [sum_2_str(v1[i], v2[i]) for i in range(3)]\n",
    "\n",
    "def merge_columns(df, columns_comment, columns_resolution):\n",
    "    fio = df[df.columns[0]].apply(convert_nothing_to_none).apply(lambda f: f.replace('.','. ').replace('  ',' ') if f else None)\n",
    "    comment = df[columns_comment].fillna('').astype(str).sum(axis=1).apply(convert_nothing_to_none)\n",
    "    resolution = df[columns_resolution].fillna('').astype(str).sum(axis=1).apply(convert_nothing_to_none)\n",
    "\n",
    "    df = pd.DataFrame({'fio':fio, 'comment':comment, 'resolution':resolution})\n",
    "    return df[['fio','comment','resolution']]\n",
    "\n",
    "def words_in_str(t):\n",
    "    return len(t.split()) if t else 0\n",
    "\n",
    "def contains_address_elements(t):\n",
    "    for v in {'ул.','стр.','дом ',' д.','кв.','район','владение', 'корп.'}:\n",
    "        if v in t:\n",
    "            return True\n",
    "    return False\n",
    "\n",
    "def ends_with_comma(t):\n",
    "    return t.endswith(',') or t.endswith(', ') if t else False\n",
    "\n",
    "def merge_rows(df, print_decision=False):\n",
    "    df_l = [normalize_row(df.values[0])]\n",
    "    previous_was_empty = isnan(df_l[0][0])\n",
    "\n",
    "    for i in range(1,len(df)):\n",
    "        v = df.values[i]\n",
    "        prev_v = df.values[i-1]\n",
    "        next_is_empty = i+1<len(df) and isnan(df.values[i+1][0])\n",
    "        words_in_fio = words_in_str(v[0])\n",
    "        prev_words_in_fio = words_in_str(df_l[-1][0])\n",
    "        first_comment_letter_is_uppercase = v[1][0].upper()==v[1][0] if v[1] else True\n",
    "        \n",
    "        if (v[0] in exceptions_should_not_be_appended \\\n",
    "            or i == 19855 and v[0]=='Светлана' \\\n",
    "            or i == 19859 and v[0]=='Александр') \\\n",
    "            or str(prev_v[0]).endswith('Свободы 61-2') \\\n",
    "            or v[0] and v[1] and str(v[2]).startswith('Принято к сведению') \\\n",
    "            or (v[0] and i>3 and isnan(df.values[i-1][0]) and isnan(df.values[i-2][0]) and isnan(df.values[i-3][0]) and isnan(df.values[i-4][0])) \\\n",
    "            or (v[0] and v[2] \\\n",
    "            and v[0] not in exceptions_should_be_appended \\\n",
    "            and not ends_with_comma(prev_v[0]) \\\n",
    "            and prev_v[0] not in {\"Рукивозов А. Т.\", \"Баринова Е. С. \", \"Шинкаренко А. М. \"} \\\n",
    "            and (not contains_address_elements(v[0]) or v[0] == 'Микрорайон') \\\n",
    "            and not ('не представился' in v[0] and not v[1]) \\\n",
    "            and (words_in_fio>2 or (words_in_fio == 2 and prev_words_in_fio>1) or previous_was_empty or (v[0]=='Житель') and not previous_was_empty)):\n",
    "\n",
    "            df_l.append(normalize_row(v))\n",
    "            if print_decision: print(1)\n",
    "\n",
    "        elif not v[0] or not v[2] \\\n",
    "            or prev_v[0] in {\"Рукивозов А. Т.\", \"Баринова Е. С. \", \"Шинкаренко А. М. \"} \\\n",
    "            or ends_with_comma(prev_v[0]) \\\n",
    "            or v[0] in exceptions_should_be_appended \\\n",
    "            or contains_address_elements(v[0]) \\\n",
    "            or ('не представился' in v[0] and not v[1]) \\\n",
    "            or (words_in_fio == 1 and (previous_was_empty or next_is_empty or words_in_str(df_l[-1][0])<3)) \\\n",
    "            or (words_in_fio == 2 and (previous_was_empty or next_is_empty or prev_words_in_fio==1)):\n",
    "\n",
    "            df_l[-1] = add_row_to_row(df_l[-1], v)\n",
    "            fio_ended = True\n",
    "            if print_decision: print(2)\n",
    "\n",
    "        elif v[0] and not v[1] and not v[2]:\n",
    "            \n",
    "            ov = df_l[-1]\n",
    "            ov[0] = v[0]\n",
    "            df_l.append(normalize_row(ov))\n",
    "            if print_decision: print(3)\n",
    "\n",
    "        else:\n",
    "            \n",
    "            df_l.append(normalize_row(v))\n",
    "            if print_decision: print(4)\n",
    "\n",
    "        previous_was_empty = isnan(v[0])\n",
    "    return pd.DataFrame(df_l, columns=df.columns)\n",
    "\n",
    "def make_df(df, columns_comment, columns_resolution):\n",
    "    return merge_rows(merge_columns(df, columns_comment, columns_resolution))\n",
    "\n",
    "def merge_rows_4(df, print_decision=False):\n",
    "    df_l = [normalize_row(df.values[0])]\n",
    "    previous_was_empty = isnan(df_l[0][0])\n",
    "\n",
    "    for i in range(1,len(df)):\n",
    "        v = df.values[i]\n",
    "        prev_v = df.values[i-1]\n",
    "\n",
    "        if v[0] and not prev_v[0]:\n",
    "            df_l.append(normalize_row(v))\n",
    "        else:\n",
    "            df_l[-1] = add_row_to_row(df_l[-1], v)\n",
    "    return pd.DataFrame(df_l, columns=df.columns)"
   ]
  },
  {
   "cell_type": "markdown",
   "metadata": {},
   "source": [
    "------"
   ]
  },
  {
   "cell_type": "markdown",
   "metadata": {},
   "source": [
    "# План работ\n",
    "\n",
    "1. По отдельности обработать каждый файл\n",
    "2. Соединить всё вместе\n",
    "3. Навесить номера страниц\n",
    "4. Разделить фамилии в одной ячейке\n",
    "5. Учесть записи в стиле **\"Коллективное: +32 подписи\"**"
   ]
  },
  {
   "cell_type": "markdown",
   "metadata": {},
   "source": [
    "## 1. По отдельности обработаем каждый файл\n",
    "В 2 шага:\n",
    "\n",
    "* соединить столбцы (изи, указываем вручную нужные, у них есть чётко разделимая граница)\n",
    "\n",
    "* соединить строки (сложно, там очень много разных вариантов может быть)\n",
    "\n",
    "Оставил именно в 2 отдельных шага для удобства проверки"
   ]
  },
  {
   "cell_type": "code",
   "execution_count": 4,
   "metadata": {
    "collapsed": true
   },
   "outputs": [],
   "source": [
    "df1 = pd.read_excel(xls_path+'pzz_p1.xlsx')\n",
    "df1_c = merge_columns(df1, df1.columns[1:4], df1.columns[4:])\n",
    "df1_cleared = merge_rows(df1_c)"
   ]
  },
  {
   "cell_type": "code",
   "execution_count": 5,
   "metadata": {
    "collapsed": true
   },
   "outputs": [],
   "source": [
    "df2 = pd.read_excel(xls_path+'pzz_p2.xlsx')\n",
    "df2_c = merge_columns(df2, df2.columns[1:8], df2.columns[8:])\n",
    "df2_cleared = merge_rows(df2_c)"
   ]
  },
  {
   "cell_type": "code",
   "execution_count": 6,
   "metadata": {
    "collapsed": true
   },
   "outputs": [],
   "source": [
    "df31 = pd.read_excel(xls_path+'pzz_p3 1-2000.xlsx')[4:]\n",
    "df31_c = merge_columns(df31, df31.columns[1:14], df31.columns[14:])\n",
    "df31_cleared = merge_rows(df31_c)"
   ]
  },
  {
   "cell_type": "code",
   "execution_count": 7,
   "metadata": {
    "collapsed": true
   },
   "outputs": [],
   "source": [
    "df32 = pd.read_excel(xls_path + 'pzz_p3 2001-4000.xlsx', header=None)\n",
    "df32_c = merge_columns(df32, df32.columns[1:39], df32.columns[39:])\n",
    "df32_cleared = merge_rows(df32_c)"
   ]
  },
  {
   "cell_type": "code",
   "execution_count": 8,
   "metadata": {
    "collapsed": true
   },
   "outputs": [],
   "source": [
    "df33 = pd.read_excel(xls_path + 'pzz_p3 4001-6000.xlsx', header=None)\n",
    "df33_c = merge_columns(df33, df33.columns[1:3], df33.columns[4:6])\n",
    "df33_cleared = merge_rows(df33_c)"
   ]
  },
  {
   "cell_type": "code",
   "execution_count": 9,
   "metadata": {
    "collapsed": true
   },
   "outputs": [],
   "source": [
    "df34 = pd.read_excel(xls_path + 'pzz_p3 6001-7500.xlsx')\n",
    "df34_c = merge_columns(df34, df34.columns[1:4], df34.columns[4:])\n",
    "df34_cleared = merge_rows(df34_c)"
   ]
  },
  {
   "cell_type": "code",
   "execution_count": 10,
   "metadata": {
    "collapsed": true
   },
   "outputs": [],
   "source": [
    "df35 = pd.read_excel(xls_path + 'pzz_p3 7501-8982.xlsx')\n",
    "df35_c = merge_columns(df35, df35.columns[1:3], df35.columns[3:])\n",
    "df35_cleared = merge_rows(df35_c)"
   ]
  },
  {
   "cell_type": "code",
   "execution_count": 11,
   "metadata": {
    "collapsed": true
   },
   "outputs": [],
   "source": [
    "df4 = pd.read_excel(xls_path + 'pzz_p4.xlsx', header=None)[5:]\n",
    "df4_c = merge_columns(df4, df4.columns[1:19], df4.columns[19:])\n",
    "df4_cleared = merge_rows_4(df4_c)"
   ]
  },
  {
   "cell_type": "code",
   "execution_count": 12,
   "metadata": {
    "collapsed": true
   },
   "outputs": [],
   "source": [
    "df5 = pd.read_excel(xls_path+'pzz_p5.xlsx')\n",
    "df5_c = merge_columns(df5, df5.columns[1:3], df5.columns[3:6])\n",
    "df5_cleared = merge_rows(df5_c)"
   ]
  },
  {
   "cell_type": "markdown",
   "metadata": {},
   "source": [
    "## 2. Соединяем все части вместе"
   ]
  },
  {
   "cell_type": "code",
   "execution_count": 13,
   "metadata": {
    "collapsed": true
   },
   "outputs": [],
   "source": [
    "df1_cleared['part'] = 1\n",
    "df2_cleared['part'] = 2\n",
    "df31_cleared['part'] = 3\n",
    "df32_cleared['part'] = 3\n",
    "df33_cleared['part'] = 3\n",
    "df34_cleared['part'] = 3\n",
    "df35_cleared['part'] = 3\n",
    "df4_cleared['part'] = 4\n",
    "df5_cleared['part'] = 5"
   ]
  },
  {
   "cell_type": "code",
   "execution_count": 14,
   "metadata": {
    "collapsed": true
   },
   "outputs": [],
   "source": [
    "df = pd.concat([df1_cleared, df2_cleared, df31_cleared, df32_cleared, df33_cleared, df34_cleared, df35_cleared, df4_cleared, df5_cleared])\n",
    "df.index = range(len(df))"
   ]
  },
  {
   "cell_type": "markdown",
   "metadata": {},
   "source": [
    "Почему-то осталось 6 пропусков, вольём их в предыдущие строки"
   ]
  },
  {
   "cell_type": "code",
   "execution_count": 15,
   "metadata": {
    "collapsed": true
   },
   "outputs": [],
   "source": [
    "for i in reversed(list(df[df.fio.isnull()].index)):\n",
    "    df.fio[i-1] = \"{} {}\".format(df.loc[i-1].fio or '', df.loc[i].fio or '')\n",
    "    df.comment[i-1] = \"{} {}\".format(df.loc[i-1].comment or '', df.loc[i].comment or '')\n",
    "    df.resolution[i-1] = \"{} {}\".format(df.loc[i-1].resolution or '', df.loc[i].resolution or '')\n",
    "    df = df.drop(i)\n",
    "df.index = range(len(df))"
   ]
  },
  {
   "cell_type": "raw",
   "metadata": {},
   "source": [
    "df[['Соловьиная' in c for c in df.fio]]"
   ]
  },
  {
   "cell_type": "raw",
   "metadata": {},
   "source": [
    "df[['ОТЗЫВ участника публичных слушаний' in c for c in df.comment]]"
   ]
  },
  {
   "cell_type": "markdown",
   "metadata": {},
   "source": [
    "## 3. Навешиваем поверх номера страниц"
   ]
  },
  {
   "cell_type": "markdown",
   "metadata": {},
   "source": [
    "### 3.1. Первичная простановка страниц: берём минимальный номер страницы по ФИО на данных finereader"
   ]
  },
  {
   "cell_type": "markdown",
   "metadata": {},
   "source": [
    "Делаем справочник фио-страница"
   ]
  },
  {
   "cell_type": "code",
   "execution_count": 16,
   "metadata": {
    "collapsed": true
   },
   "outputs": [],
   "source": [
    "f = lambda x: str(x).replace('. ','.').strip()\n",
    "dfp = pd.read_excel('data_progress/1 PZZ.xlsx')\n",
    "dfp.index = dfp.fio.apply(f)"
   ]
  },
  {
   "cell_type": "code",
   "execution_count": 17,
   "metadata": {},
   "outputs": [
    {
     "name": "stdout",
     "output_type": "stream",
     "text": [
      "CPU times: user 1min 19s, sys: 781 ms, total: 1min 20s\n",
      "Wall time: 1min 22s\n"
     ]
    }
   ],
   "source": [
    "%%time\n",
    "pager = dict(dfp.page)"
   ]
  },
  {
   "cell_type": "code",
   "execution_count": 18,
   "metadata": {
    "collapsed": true
   },
   "outputs": [],
   "source": [
    "def get_page_options(fio):\n",
    "    t = pager.get(f(fio))\n",
    "    if t is None:\n",
    "        return []\n",
    "    try:\n",
    "        return list(t.values)\n",
    "    except:\n",
    "        return [t]"
   ]
  },
  {
   "cell_type": "code",
   "execution_count": 19,
   "metadata": {
    "collapsed": true
   },
   "outputs": [],
   "source": [
    "pages_options = [get_page_options(fio) for fio in df.fio]\n",
    "# в начале херня, в ручную приходится исправлять :(\n",
    "for i in range(6):\n",
    "    pages_options[i] = []"
   ]
  },
  {
   "cell_type": "code",
   "execution_count": 20,
   "metadata": {
    "collapsed": true
   },
   "outputs": [],
   "source": [
    "df[\"page\"] = [min(t) if t else None for t in pages_options]"
   ]
  },
  {
   "cell_type": "code",
   "execution_count": 21,
   "metadata": {},
   "outputs": [
    {
     "data": {
      "text/plain": [
       "[<matplotlib.lines.Line2D at 0x11cc94780>]"
      ]
     },
     "execution_count": 21,
     "metadata": {},
     "output_type": "execute_result"
    },
    {
     "data": {
      "image/png": "[encoded data removed]",
      "text/plain": [
       "<matplotlib.figure.Figure at 0x126f09d68>"
      ]
     },
     "metadata": {},
     "output_type": "display_data"
    }
   ],
   "source": [
    "plt.plot(df.page, 'ro', alpha=0.2)"
   ]
  },
  {
   "cell_type": "markdown",
   "metadata": {},
   "source": [
    "### 3.2. Удаление аномальных номеров страниц\n",
    "**(аппроксимируем неубывающую функцию, а всё, что далеко от неё - удаляем, повторять итеративно)**"
   ]
  },
  {
   "cell_type": "code",
   "execution_count": 22,
   "metadata": {
    "collapsed": true
   },
   "outputs": [],
   "source": [
    "from sklearn.isotonic import IsotonicRegression"
   ]
  },
  {
   "cell_type": "code",
   "execution_count": 23,
   "metadata": {
    "collapsed": true
   },
   "outputs": [],
   "source": [
    "ir = IsotonicRegression()"
   ]
  },
  {
   "cell_type": "markdown",
   "metadata": {},
   "source": [
    "##### Итерация 0"
   ]
  },
  {
   "cell_type": "code",
   "execution_count": 24,
   "metadata": {},
   "outputs": [
    {
     "data": {
      "text/plain": [
       "7958"
      ]
     },
     "execution_count": 24,
     "metadata": {},
     "output_type": "execute_result"
    }
   ],
   "source": [
    "df.page.isnull().sum()"
   ]
  },
  {
   "cell_type": "code",
   "execution_count": 25,
   "metadata": {
    "collapsed": true
   },
   "outputs": [],
   "source": [
    "page_not_null = ~df.page.isnull()\n",
    "ir.fit(df.index[page_not_null], df.page[page_not_null])\n",
    "prediction = ir.transform(df.index)"
   ]
  },
  {
   "cell_type": "code",
   "execution_count": 26,
   "metadata": {},
   "outputs": [
    {
     "data": {
      "text/plain": [
       "[<matplotlib.lines.Line2D at 0x12697a400>]"
      ]
     },
     "execution_count": 26,
     "metadata": {},
     "output_type": "execute_result"
    },
    {
     "data": {
      "image/png": "[encoded data removed]",
      "text/plain": [
       "<matplotlib.figure.Figure at 0x12697a4a8>"
      ]
     },
     "metadata": {},
     "output_type": "display_data"
    }
   ],
   "source": [
    "plt.plot(df.page, 'ro', alpha=0.2)\n",
    "plt.plot(prediction, color='blue')"
   ]
  },
  {
   "cell_type": "code",
   "execution_count": 27,
   "metadata": {},
   "outputs": [
    {
     "data": {
      "text/plain": [
       "''"
      ]
     },
     "execution_count": 27,
     "metadata": {},
     "output_type": "execute_result"
    },
    {
     "data": {
      "image/png": "[encoded data removed]",
      "text/plain": [
       "<matplotlib.figure.Figure at 0x113662dd8>"
      ]
     },
     "metadata": {},
     "output_type": "display_data"
    }
   ],
   "source": [
    "e = prediction - np.array(df.page)\n",
    "plt.hist(e[(abs(e)>0)&(abs(e)<600)], bins=100)\n",
    "''"
   ]
  },
  {
   "cell_type": "code",
   "execution_count": 28,
   "metadata": {
    "collapsed": true
   },
   "outputs": [],
   "source": [
    "df[\"page\"][abs(e)>450] = None"
   ]
  },
  {
   "cell_type": "markdown",
   "metadata": {},
   "source": [
    "##### Итерация 1"
   ]
  },
  {
   "cell_type": "code",
   "execution_count": 29,
   "metadata": {},
   "outputs": [
    {
     "data": {
      "text/plain": [
       "10007"
      ]
     },
     "execution_count": 29,
     "metadata": {},
     "output_type": "execute_result"
    }
   ],
   "source": [
    "df.page.isnull().sum()"
   ]
  },
  {
   "cell_type": "code",
   "execution_count": 30,
   "metadata": {
    "collapsed": true
   },
   "outputs": [],
   "source": [
    "page_not_null = ~df.page.isnull()\n",
    "ir.fit(df.index[page_not_null], df.page[page_not_null])\n",
    "prediction = ir.transform(df.index)"
   ]
  },
  {
   "cell_type": "code",
   "execution_count": 31,
   "metadata": {},
   "outputs": [
    {
     "data": {
      "text/plain": [
       "[<matplotlib.lines.Line2D at 0x11efd57f0>]"
      ]
     },
     "execution_count": 31,
     "metadata": {},
     "output_type": "execute_result"
    },
    {
     "data": {
      "image/png": "[encoded data removed]",
      "text/plain": [
       "<matplotlib.figure.Figure at 0x11efd5828>"
      ]
     },
     "metadata": {},
     "output_type": "display_data"
    }
   ],
   "source": [
    "plt.plot(df.page, 'ro', alpha=0.2)\n",
    "plt.plot(prediction, color='blue')"
   ]
  },
  {
   "cell_type": "code",
   "execution_count": 32,
   "metadata": {},
   "outputs": [
    {
     "data": {
      "text/plain": [
       "''"
      ]
     },
     "execution_count": 32,
     "metadata": {},
     "output_type": "execute_result"
    },
    {
     "data": {
      "image/png": "[encoded data removed]",
      "text/plain": [
       "<matplotlib.figure.Figure at 0x126a333c8>"
      ]
     },
     "metadata": {},
     "output_type": "display_data"
    }
   ],
   "source": [
    "e = prediction - np.array(df.page)\n",
    "plt.hist(e[(abs(e)>0)&(abs(e)<100)], bins=100)\n",
    "''"
   ]
  },
  {
   "cell_type": "code",
   "execution_count": 33,
   "metadata": {
    "collapsed": true
   },
   "outputs": [],
   "source": [
    "df[\"page\"][abs(e)>50] = None"
   ]
  },
  {
   "cell_type": "markdown",
   "metadata": {},
   "source": [
    "##### Итерация 2"
   ]
  },
  {
   "cell_type": "code",
   "execution_count": 34,
   "metadata": {},
   "outputs": [
    {
     "data": {
      "text/plain": [
       "10463"
      ]
     },
     "execution_count": 34,
     "metadata": {},
     "output_type": "execute_result"
    }
   ],
   "source": [
    "df.page.isnull().sum()"
   ]
  },
  {
   "cell_type": "code",
   "execution_count": 35,
   "metadata": {
    "collapsed": true
   },
   "outputs": [],
   "source": [
    "page_not_null = ~df.page.isnull()\n",
    "ir.fit(df.index[page_not_null], df.page[page_not_null])\n",
    "prediction = ir.transform(df.index)"
   ]
  },
  {
   "cell_type": "code",
   "execution_count": 36,
   "metadata": {},
   "outputs": [
    {
     "data": {
      "text/plain": [
       "[<matplotlib.lines.Line2D at 0x126a03f98>]"
      ]
     },
     "execution_count": 36,
     "metadata": {},
     "output_type": "execute_result"
    },
    {
     "data": {
      "image/png": "[encoded data removed]",
      "text/plain": [
       "<matplotlib.figure.Figure at 0x126a03e80>"
      ]
     },
     "metadata": {},
     "output_type": "display_data"
    }
   ],
   "source": [
    "plt.plot(df.page, 'ro', alpha=0.2)\n",
    "plt.plot(prediction, color='blue')"
   ]
  },
  {
   "cell_type": "code",
   "execution_count": 37,
   "metadata": {},
   "outputs": [
    {
     "data": {
      "text/plain": [
       "''"
      ]
     },
     "execution_count": 37,
     "metadata": {},
     "output_type": "execute_result"
    },
    {
     "data": {
      "image/png": "[encoded data removed]",
      "text/plain": [
       "<matplotlib.figure.Figure at 0x126b0e5f8>"
      ]
     },
     "metadata": {},
     "output_type": "display_data"
    }
   ],
   "source": [
    "e = prediction - np.array(df.page)\n",
    "plt.hist(e[(abs(e)>0)&(abs(e)<50)], bins=100)\n",
    "''"
   ]
  },
  {
   "cell_type": "code",
   "execution_count": 38,
   "metadata": {
    "collapsed": true
   },
   "outputs": [],
   "source": [
    "df[\"page\"][abs(e)>25] = None"
   ]
  },
  {
   "cell_type": "code",
   "execution_count": 39,
   "metadata": {},
   "outputs": [
    {
     "data": {
      "text/plain": [
       "10542"
      ]
     },
     "execution_count": 39,
     "metadata": {},
     "output_type": "execute_result"
    }
   ],
   "source": [
    "df.page.isnull().sum()"
   ]
  },
  {
   "cell_type": "markdown",
   "metadata": {},
   "source": [
    "### 3.3. Заполним однозначно разрешаемые ситуации: между записями на странице N находится запись тоже со страницы N"
   ]
  },
  {
   "cell_type": "code",
   "execution_count": 40,
   "metadata": {
    "collapsed": true
   },
   "outputs": [],
   "source": [
    "page_prev = pd.Series([df.page[(i-40):(i+1)].max() for i in range(len(df))])\n",
    "page_next = pd.Series([df.page[i:(i+40)].min() for i in range(len(df))])"
   ]
  },
  {
   "cell_type": "code",
   "execution_count": 41,
   "metadata": {
    "collapsed": true
   },
   "outputs": [],
   "source": [
    "df[\"page\"] = [p if p==v and p and not np.isnan(p) else i for i,p,v in zip(df.page, page_prev, page_next)]"
   ]
  },
  {
   "cell_type": "code",
   "execution_count": 42,
   "metadata": {},
   "outputs": [
    {
     "data": {
      "text/plain": [
       "8478"
      ]
     },
     "execution_count": 42,
     "metadata": {},
     "output_type": "execute_result"
    }
   ],
   "source": [
    "df.page.isnull().sum()"
   ]
  },
  {
   "cell_type": "markdown",
   "metadata": {},
   "source": [
    "### 3.4. Восполним пробелы подходящими варианты из наборов возможных страниц для каждого ФИО\n",
    "Идея такая: есть фамилия Иванов в начале страницы 100. Мы по фамилии восстановили страницы [10,40,100,340], взяли минимум 10, выкинули как не подходящий и всё. По окружению тоже не получилось восстановить номер. Так давайте переберём все варианты из списка выше и выберем минимально подходящий? side-effect, каждый раз надо пересчитывать предыдущие при проходе вперёд"
   ]
  },
  {
   "cell_type": "code",
   "execution_count": 43,
   "metadata": {
    "collapsed": true
   },
   "outputs": [],
   "source": [
    "new_options = {}\n",
    "\n",
    "for i in df[df.page.isnull()].index[7:]:\n",
    "    if pages_options[i]:\n",
    "        t = [p for p in pages_options[i] if p>=page_prev[i] and p<=page_next[i]]\n",
    "        if t:\n",
    "            new_p = min(t)\n",
    "            new_options.update({i:new_p})\n",
    "            for i in range(i, i+100):\n",
    "                if new_p>page_prev[i]:\n",
    "                    page_prev[i]=new_p\n",
    "                else:\n",
    "                    break"
   ]
  },
  {
   "cell_type": "code",
   "execution_count": 44,
   "metadata": {},
   "outputs": [
    {
     "data": {
      "text/plain": [
       "647"
      ]
     },
     "execution_count": 44,
     "metadata": {},
     "output_type": "execute_result"
    }
   ],
   "source": [
    "len(new_options)"
   ]
  },
  {
   "cell_type": "code",
   "execution_count": 45,
   "metadata": {
    "collapsed": true
   },
   "outputs": [],
   "source": [
    "df_values = df.values\n",
    "column_index = np.argmax(df.columns=='page')\n",
    "for k, v in new_options.items():\n",
    "    df_values[k][column_index] = v\n",
    "df = pd.DataFrame(df_values, columns=df.columns)"
   ]
  },
  {
   "cell_type": "code",
   "execution_count": 46,
   "metadata": {},
   "outputs": [
    {
     "data": {
      "text/plain": [
       "7831"
      ]
     },
     "execution_count": 46,
     "metadata": {},
     "output_type": "execute_result"
    }
   ],
   "source": [
    "df.page.isnull().sum()"
   ]
  },
  {
   "cell_type": "markdown",
   "metadata": {},
   "source": [
    "### 3.5. Повторим шаг 3.3: заполним однозначно разрешаемые ситуции после заполнения новыми данными"
   ]
  },
  {
   "cell_type": "code",
   "execution_count": 47,
   "metadata": {
    "collapsed": true
   },
   "outputs": [],
   "source": [
    "df[\"page\"] = [p if p==v and p and not np.isnan(p) else i for i,p,v in zip(df.page, page_prev, page_next)]"
   ]
  },
  {
   "cell_type": "code",
   "execution_count": 48,
   "metadata": {},
   "outputs": [
    {
     "data": {
      "text/plain": [
       "7813"
      ]
     },
     "execution_count": 48,
     "metadata": {},
     "output_type": "execute_result"
    }
   ],
   "source": [
    "df.page.isnull().sum()"
   ]
  },
  {
   "cell_type": "markdown",
   "metadata": {},
   "source": [
    "### 3.6. Всё что осталось - заменим на аппроксимации"
   ]
  },
  {
   "cell_type": "code",
   "execution_count": 49,
   "metadata": {
    "collapsed": true
   },
   "outputs": [],
   "source": [
    "df[\"page\"].loc[[0,1]] = 1\n",
    "df[\"page\"].loc[[2]] = 5\n",
    "df[\"page\"].loc[[3,4]] = 6\n",
    "df[\"page\"].loc[[5,6]] = 8"
   ]
  },
  {
   "cell_type": "code",
   "execution_count": 50,
   "metadata": {
    "collapsed": true
   },
   "outputs": [],
   "source": [
    "df[\"exact_page\"] = ~df.page.isnull()"
   ]
  },
  {
   "cell_type": "code",
   "execution_count": 51,
   "metadata": {
    "collapsed": true
   },
   "outputs": [],
   "source": [
    "ir.fit(df.index[df.exact_page], df.page[df.exact_page])\n",
    "prediction = ir.transform(df.index)"
   ]
  },
  {
   "cell_type": "code",
   "execution_count": 52,
   "metadata": {
    "collapsed": true
   },
   "outputs": [],
   "source": [
    "def isnan(t):\n",
    "    try:\n",
    "        return t is None or np.isnan(t)\n",
    "    except:\n",
    "        return False"
   ]
  },
  {
   "cell_type": "code",
   "execution_count": 53,
   "metadata": {
    "collapsed": true
   },
   "outputs": [],
   "source": [
    "df[\"page\"] = [page if not isnan(page) else prediction for page, prediction in zip(df.page, prediction)]\n",
    "df[\"page\"] = df.page.astype(int)"
   ]
  },
  {
   "cell_type": "code",
   "execution_count": 54,
   "metadata": {},
   "outputs": [
    {
     "data": {
      "text/plain": [
       "0"
      ]
     },
     "execution_count": 54,
     "metadata": {},
     "output_type": "execute_result"
    }
   ],
   "source": [
    "df.page.isnull().sum()"
   ]
  },
  {
   "cell_type": "code",
   "execution_count": 55,
   "metadata": {},
   "outputs": [
    {
     "data": {
      "text/html": [
       "<div>\n",
       "<table border=\"1\" class=\"dataframe\">\n",
       "  <thead>\n",
       "    <tr style=\"text-align: right;\">\n",
       "      <th></th>\n",
       "      <th>fio</th>\n",
       "      <th>comment</th>\n",
       "      <th>resolution</th>\n",
       "      <th>part</th>\n",
       "      <th>page</th>\n",
       "      <th>exact_page</th>\n",
       "    </tr>\n",
       "  </thead>\n",
       "  <tbody>\n",
       "    <tr>\n",
       "      <th>0</th>\n",
       "      <td>Захаренко В. А.</td>\n",
       "      <td>Во все разделы правил землепользования и застр...</td>\n",
       "      <td>Предложения, относящиеся к предмету публичных ...</td>\n",
       "      <td>1</td>\n",
       "      <td>1</td>\n",
       "      <td>True</td>\n",
       "    </tr>\n",
       "    <tr>\n",
       "      <th>1</th>\n",
       "      <td>Калантарова Ю. В.</td>\n",
       "      <td>На основании вступившего в законную силу судеб...</td>\n",
       "      <td>Предложения, относящиеся к предмету публичных ...</td>\n",
       "      <td>1</td>\n",
       "      <td>1</td>\n",
       "      <td>True</td>\n",
       "    </tr>\n",
       "    <tr>\n",
       "      <th>2</th>\n",
       "      <td>Ткач Е. В.</td>\n",
       "      <td>В картах ПЗЗ не отражены \"Защитные зоны ОКН\" (...</td>\n",
       "      <td>Замечание рекомендовано к учёту. Рекомендовать...</td>\n",
       "      <td>1</td>\n",
       "      <td>5</td>\n",
       "      <td>True</td>\n",
       "    </tr>\n",
       "    <tr>\n",
       "      <th>3</th>\n",
       "      <td>Крупенина О. Н.</td>\n",
       "      <td>На карте Градостроительного зонирования \"Грани...</td>\n",
       "      <td>1. Предложение предусмотрено проектом ПЗЗ. На ...</td>\n",
       "      <td>1</td>\n",
       "      <td>6</td>\n",
       "      <td>True</td>\n",
       "    </tr>\n",
       "    <tr>\n",
       "      <th>4</th>\n",
       "      <td>Терехов А. С.</td>\n",
       "      <td>Внести в Проект правил землепользования и заст...</td>\n",
       "      <td>Предложение не рекомендовано к учёту. Отсутств...</td>\n",
       "      <td>1</td>\n",
       "      <td>6</td>\n",
       "      <td>True</td>\n",
       "    </tr>\n",
       "    <tr>\n",
       "      <th>5</th>\n",
       "      <td>Бегимов М. Н.</td>\n",
       "      <td>Реализация действующего постановления Правител...</td>\n",
       "      <td>Реализация постановления Правительства Москвы ...</td>\n",
       "      <td>1</td>\n",
       "      <td>8</td>\n",
       "      <td>True</td>\n",
       "    </tr>\n",
       "    <tr>\n",
       "      <th>6</th>\n",
       "      <td>Кайков И. Бен- Закунимович</td>\n",
       "      <td>Представить правила застройки и землепользован...</td>\n",
       "      <td>1. В территориальной зоне, в которой расположе...</td>\n",
       "      <td>1</td>\n",
       "      <td>8</td>\n",
       "      <td>True</td>\n",
       "    </tr>\n",
       "    <tr>\n",
       "      <th>7</th>\n",
       "      <td>Купцов Л. А.</td>\n",
       "      <td>Учитывая социальную значимость проекта строите...</td>\n",
       "      <td>Предложение не рекомендовано к учёту. Отсутств...</td>\n",
       "      <td>1</td>\n",
       "      <td>9</td>\n",
       "      <td>True</td>\n",
       "    </tr>\n",
       "    <tr>\n",
       "      <th>8</th>\n",
       "      <td>Макшанцев М. Н.</td>\n",
       "      <td>Установить зону развития по адресу: Новодевичи...</td>\n",
       "      <td>Предложение не рекомендовано к учёту. Отсутств...</td>\n",
       "      <td>1</td>\n",
       "      <td>9</td>\n",
       "      <td>True</td>\n",
       "    </tr>\n",
       "    <tr>\n",
       "      <th>9</th>\n",
       "      <td>Фомина Г. В.</td>\n",
       "      <td>С проектом ПЗЗ ознакомлена</td>\n",
       "      <td>Принято к сведению</td>\n",
       "      <td>1</td>\n",
       "      <td>9</td>\n",
       "      <td>True</td>\n",
       "    </tr>\n",
       "    <tr>\n",
       "      <th>10</th>\n",
       "      <td>Чернышов В. Н.</td>\n",
       "      <td>С проектом ПЗЗ ознакомлен. Все хорошо, предлож...</td>\n",
       "      <td>Принято к сведению</td>\n",
       "      <td>1</td>\n",
       "      <td>9</td>\n",
       "      <td>True</td>\n",
       "    </tr>\n",
       "    <tr>\n",
       "      <th>11</th>\n",
       "      <td>Мешкова Н. С.</td>\n",
       "      <td>С проектом ПЗЗ ознакомлена, предложений замеча...</td>\n",
       "      <td>Принято к сведению</td>\n",
       "      <td>1</td>\n",
       "      <td>9</td>\n",
       "      <td>True</td>\n",
       "    </tr>\n",
       "    <tr>\n",
       "      <th>12</th>\n",
       "      <td>Гагут Л. Д.</td>\n",
       "      <td>С ПЗЗ ознакомлена, предложений и замечаний нет</td>\n",
       "      <td>Принято к сведению</td>\n",
       "      <td>1</td>\n",
       "      <td>9</td>\n",
       "      <td>True</td>\n",
       "    </tr>\n",
       "    <tr>\n",
       "      <th>13</th>\n",
       "      <td>Мезенова Е. А.</td>\n",
       "      <td>Целевое назначение постройки Рабочая 35 «Дом б...</td>\n",
       "      <td>1. В указанной территориальной зоне проектом П...</td>\n",
       "      <td>1</td>\n",
       "      <td>9</td>\n",
       "      <td>True</td>\n",
       "    </tr>\n",
       "    <tr>\n",
       "      <th>14</th>\n",
       "      <td>Гриценко Е. П.</td>\n",
       "      <td>Предложения и замечания дополнительно пришлю п...</td>\n",
       "      <td>Предложения/замечания, относящиеся к предмету ...</td>\n",
       "      <td>1</td>\n",
       "      <td>9</td>\n",
       "      <td>True</td>\n",
       "    </tr>\n",
       "    <tr>\n",
       "      <th>15</th>\n",
       "      <td>Чернова В. Л.</td>\n",
       "      <td>Прошу поменять зону сохранения нахождения объе...</td>\n",
       "      <td>1. Предложения/замечания, относящиеся к предме...</td>\n",
       "      <td>1</td>\n",
       "      <td>9</td>\n",
       "      <td>True</td>\n",
       "    </tr>\n",
       "    <tr>\n",
       "      <th>16</th>\n",
       "      <td>Трифонов М. Л.</td>\n",
       "      <td>Прошу перевести из зоны сохранения в зону разв...</td>\n",
       "      <td>1. Предложения/замечания, относящиеся к предме...</td>\n",
       "      <td>1</td>\n",
       "      <td>10</td>\n",
       "      <td>True</td>\n",
       "    </tr>\n",
       "    <tr>\n",
       "      <th>17</th>\n",
       "      <td>Крабашев С. В.</td>\n",
       "      <td>Прошу внести технико-экономические показатели ...</td>\n",
       "      <td>Предложение не рекомендовано к учёту. Отсутств...</td>\n",
       "      <td>1</td>\n",
       "      <td>10</td>\n",
       "      <td>True</td>\n",
       "    </tr>\n",
       "    <tr>\n",
       "      <th>18</th>\n",
       "      <td>Ласис Р. А.</td>\n",
       "      <td>ООО \"Техноальянс Интернешнл\" просит Вас учесть...</td>\n",
       "      <td>Предложение не рекомендовано к учету. В проект...</td>\n",
       "      <td>1</td>\n",
       "      <td>10</td>\n",
       "      <td>True</td>\n",
       "    </tr>\n",
       "    <tr>\n",
       "      <th>19</th>\n",
       "      <td>Бараков А. В.</td>\n",
       "      <td>Предложений и замечаний нет. Поддерживаю.</td>\n",
       "      <td>Принято к сведению</td>\n",
       "      <td>1</td>\n",
       "      <td>10</td>\n",
       "      <td>True</td>\n",
       "    </tr>\n",
       "  </tbody>\n",
       "</table>\n",
       "</div>"
      ],
      "text/plain": [
       "                           fio  \\\n",
       "0              Захаренко В. А.   \n",
       "1            Калантарова Ю. В.   \n",
       "2                   Ткач Е. В.   \n",
       "3              Крупенина О. Н.   \n",
       "4                Терехов А. С.   \n",
       "5                Бегимов М. Н.   \n",
       "6   Кайков И. Бен- Закунимович   \n",
       "7                 Купцов Л. А.   \n",
       "8              Макшанцев М. Н.   \n",
       "9                Фомина Г. В.    \n",
       "10             Чернышов В. Н.    \n",
       "11              Мешкова Н. С.    \n",
       "12                Гагут Л. Д.    \n",
       "13              Мезенова Е. А.   \n",
       "14              Гриценко Е. П.   \n",
       "15               Чернова В. Л.   \n",
       "16              Трифонов М. Л.   \n",
       "17              Крабашев С. В.   \n",
       "18                 Ласис Р. А.   \n",
       "19              Бараков А. В.    \n",
       "\n",
       "                                              comment  \\\n",
       "0   Во все разделы правил землепользования и застр...   \n",
       "1   На основании вступившего в законную силу судеб...   \n",
       "2   В картах ПЗЗ не отражены \"Защитные зоны ОКН\" (...   \n",
       "3   На карте Градостроительного зонирования \"Грани...   \n",
       "4   Внести в Проект правил землепользования и заст...   \n",
       "5   Реализация действующего постановления Правител...   \n",
       "6   Представить правила застройки и землепользован...   \n",
       "7   Учитывая социальную значимость проекта строите...   \n",
       "8   Установить зону развития по адресу: Новодевичи...   \n",
       "9                          С проектом ПЗЗ ознакомлена   \n",
       "10  С проектом ПЗЗ ознакомлен. Все хорошо, предлож...   \n",
       "11  С проектом ПЗЗ ознакомлена, предложений замеча...   \n",
       "12     С ПЗЗ ознакомлена, предложений и замечаний нет   \n",
       "13  Целевое назначение постройки Рабочая 35 «Дом б...   \n",
       "14  Предложения и замечания дополнительно пришлю п...   \n",
       "15  Прошу поменять зону сохранения нахождения объе...   \n",
       "16  Прошу перевести из зоны сохранения в зону разв...   \n",
       "17  Прошу внести технико-экономические показатели ...   \n",
       "18  ООО \"Техноальянс Интернешнл\" просит Вас учесть...   \n",
       "19          Предложений и замечаний нет. Поддерживаю.   \n",
       "\n",
       "                                           resolution part  page exact_page  \n",
       "0   Предложения, относящиеся к предмету публичных ...    1     1       True  \n",
       "1   Предложения, относящиеся к предмету публичных ...    1     1       True  \n",
       "2   Замечание рекомендовано к учёту. Рекомендовать...    1     5       True  \n",
       "3   1. Предложение предусмотрено проектом ПЗЗ. На ...    1     6       True  \n",
       "4   Предложение не рекомендовано к учёту. Отсутств...    1     6       True  \n",
       "5   Реализация постановления Правительства Москвы ...    1     8       True  \n",
       "6   1. В территориальной зоне, в которой расположе...    1     8       True  \n",
       "7   Предложение не рекомендовано к учёту. Отсутств...    1     9       True  \n",
       "8   Предложение не рекомендовано к учёту. Отсутств...    1     9       True  \n",
       "9                                  Принято к сведению    1     9       True  \n",
       "10                                 Принято к сведению    1     9       True  \n",
       "11                                 Принято к сведению    1     9       True  \n",
       "12                                 Принято к сведению    1     9       True  \n",
       "13  1. В указанной территориальной зоне проектом П...    1     9       True  \n",
       "14  Предложения/замечания, относящиеся к предмету ...    1     9       True  \n",
       "15  1. Предложения/замечания, относящиеся к предме...    1     9       True  \n",
       "16  1. Предложения/замечания, относящиеся к предме...    1    10       True  \n",
       "17  Предложение не рекомендовано к учёту. Отсутств...    1    10       True  \n",
       "18  Предложение не рекомендовано к учету. В проект...    1    10       True  \n",
       "19                                 Принято к сведению    1    10       True  "
      ]
     },
     "execution_count": 55,
     "metadata": {},
     "output_type": "execute_result"
    }
   ],
   "source": [
    "df.head(20)"
   ]
  },
  {
   "cell_type": "markdown",
   "metadata": {},
   "source": [
    "## 4. Разделим фамилии\n",
    "(при списочных историях все ФИО объединялись в одно поле, надо разъединить)"
   ]
  },
  {
   "cell_type": "code",
   "execution_count": 56,
   "metadata": {
    "collapsed": true
   },
   "outputs": [],
   "source": [
    "fio_cap = '[А-ЯЁ][а-яё]+'\n",
    "fio_space = '\\s+'\n",
    "fio_i = '[А-ЯЁа-яёA-Za-z][\\.|\\,]?'\n",
    "fio_ii = fio_i+fio_space+fio_i\n",
    "fio_fio_1part = '[А-ЯЁ][а-яё]+\\s?(?:-|–)\\s?' # двойная фамилия\n",
    "\n",
    "fio_patterns = [\n",
    "    fio_fio_1part+fio_cap+fio_space+fio_cap+fio_space+fio_cap,\n",
    "    fio_fio_1part+fio_cap+fio_space+fio_cap,\n",
    "    fio_fio_1part+fio_cap+fio_space+fio_ii,\n",
    "    fio_fio_1part+fio_cap+fio_space+fio_i,\n",
    "\n",
    "    fio_cap+fio_space+fio_cap+fio_space+fio_cap,\n",
    "    fio_cap+fio_space+fio_cap,\n",
    "    fio_cap+fio_space+fio_ii,\n",
    "    fio_cap+fio_space+fio_i,\n",
    "\n",
    "    fio_ii+fio_space+fio_cap,\n",
    "    \n",
    "    fio_cap+fio_space+fio_i,\n",
    "    fio_cap\n",
    "]\n",
    "fio_pattern = '|'.join(['('+i+')\\\\b' for i in fio_patterns])\n",
    "fio_regex = re.compile(fio_pattern)"
   ]
  },
  {
   "cell_type": "code",
   "execution_count": 57,
   "metadata": {
    "collapsed": true
   },
   "outputs": [],
   "source": [
    "fio_splitted_exceptions = ['Соловьиная р', 'Куркинское ш.', 'Новокуркинское ш.', 'Пятницкое ш.',\n",
    "    'в г. Москва', 'Ангелов п', 'Полесский п', 'Митинский п',\n",
    "    'Маршала Жукова', 'Героев Панфиловцев', 'Живописная д.', 'Житель р',\n",
    "    'Бульвар Яна Райниса', 'Строгинский б', 'Карамышевская н',\n",
    "    'Измайлово п', 'Измайловский п', 'Генерала Глаголева', 'Новокуркинское ш',\n",
    "    'Генерала Карбышева', 'Маршала Тухачевского', 'т М. Жукова', 'Новикова-Прибоя д.',\n",
    "    'Генерала Белобородова', 'а, г. Москва', 'Москвы в ч', 'Решение Совета',\n",
    "    'Новокуркинское щ', 'Волоколамское ш', 'Народного Ополчения', 'Тексты з', 'Пятницкое ш', 'Москва', 'Соловьиная', 'Куркинское ш']"
   ]
  },
  {
   "cell_type": "code",
   "execution_count": 58,
   "metadata": {
    "collapsed": true
   },
   "outputs": [],
   "source": [
    "def get_fio_list(q):\n",
    "    if len(q)<60:\n",
    "        return [q]\n",
    "    \n",
    "    q = q.replace('- ','-').replace(' -','-')\n",
    "    \n",
    "    q = re.sub(fio_fio_1part+fio_cap+'\\s'+'ул\\.', 'ул. #', q)\n",
    "    q = re.sub('ул\\.'+'\\s'+fio_fio_1part+fio_cap, 'ул. #', q)\n",
    "    q = re.sub(fio_cap+'\\s'+'ул\\.', 'ул. #', q)\n",
    "    q = re.sub('ул\\.'+'\\s'+fio_cap, 'ул. #', q)\n",
    "    \n",
    "    len_before = len(q)\n",
    "    \n",
    "    l = q.split(' ') # неразрывный пробел\n",
    "    l = sum([i.split('\\n') for i in l], [])\n",
    "    l = sum([[''.join(f) for f in fio_regex.findall(i)] for i in l], [])\n",
    "    l = [i.replace(' ',' ').strip() for i in l]\n",
    "    l = [i for i in l if i not in fio_splitted_exceptions]\n",
    "    \n",
    "    for i in l:\n",
    "        q = q.replace(i,'')\n",
    "    q = q.replace(' ',' ').replace('\\n',' ').replace(',','')\n",
    "    q = re.sub(' +',' ',q)\n",
    "    len_after = len(q)\n",
    "    num_adress = max(len(re.findall('ул.', q)), len(re.findall('д.', q)))\n",
    "    \n",
    "    if len(l)>10 or len(l)>3 and ((len_after - 15*num_adress < 30) or len_after/len_before<0.2):\n",
    "        return l\n",
    "    \n",
    "    return [q]"
   ]
  },
  {
   "cell_type": "code",
   "execution_count": 59,
   "metadata": {
    "collapsed": true
   },
   "outputs": [],
   "source": [
    "cnt = 0\n",
    "ndf_values = []\n",
    "df_values = df.values\n",
    "orig_ids = []\n",
    "list_flag = []\n",
    "column_index = np.argmax(df.columns=='fio')\n",
    "for i, row in enumerate(df_values):\n",
    "    fios = get_fio_list(row[column_index])\n",
    "    if len(fios)==1:\n",
    "        orig_ids.append(i)\n",
    "        list_flag.append(False)\n",
    "        ndf_values.append(row)\n",
    "    else:\n",
    "        cnt += 1\n",
    "        for fio in fios:\n",
    "            orig_ids.append(i)\n",
    "            list_flag.append(True)\n",
    "            new_row = row.copy()\n",
    "            new_row[column_index] = fio\n",
    "            ndf_values.append(new_row)\n",
    "ndf = pd.DataFrame(ndf_values, columns=df.columns)\n",
    "ndf[\"orig_id\"] = orig_ids\n",
    "ndf[\"list_flag\"] = list_flag\n",
    "ndf.index = range(len(ndf))"
   ]
  },
  {
   "cell_type": "code",
   "execution_count": 60,
   "metadata": {
    "scrolled": false
   },
   "outputs": [
    {
     "data": {
      "text/html": [
       "<div>\n",
       "<table border=\"1\" class=\"dataframe\">\n",
       "  <thead>\n",
       "    <tr style=\"text-align: right;\">\n",
       "      <th></th>\n",
       "      <th>fio</th>\n",
       "      <th>comment</th>\n",
       "      <th>resolution</th>\n",
       "      <th>part</th>\n",
       "      <th>page</th>\n",
       "      <th>exact_page</th>\n",
       "      <th>orig_id</th>\n",
       "      <th>list_flag</th>\n",
       "    </tr>\n",
       "  </thead>\n",
       "  <tbody>\n",
       "    <tr>\n",
       "      <th>0</th>\n",
       "      <td>Захаренко В. А.</td>\n",
       "      <td>Во все разделы правил землепользования и застр...</td>\n",
       "      <td>Предложения, относящиеся к предмету публичных ...</td>\n",
       "      <td>1</td>\n",
       "      <td>1</td>\n",
       "      <td>True</td>\n",
       "      <td>0</td>\n",
       "      <td>False</td>\n",
       "    </tr>\n",
       "    <tr>\n",
       "      <th>1</th>\n",
       "      <td>Калантарова Ю. В.</td>\n",
       "      <td>На основании вступившего в законную силу судеб...</td>\n",
       "      <td>Предложения, относящиеся к предмету публичных ...</td>\n",
       "      <td>1</td>\n",
       "      <td>1</td>\n",
       "      <td>True</td>\n",
       "      <td>1</td>\n",
       "      <td>False</td>\n",
       "    </tr>\n",
       "    <tr>\n",
       "      <th>2</th>\n",
       "      <td>Ткач Е. В.</td>\n",
       "      <td>В картах ПЗЗ не отражены \"Защитные зоны ОКН\" (...</td>\n",
       "      <td>Замечание рекомендовано к учёту. Рекомендовать...</td>\n",
       "      <td>1</td>\n",
       "      <td>5</td>\n",
       "      <td>True</td>\n",
       "      <td>2</td>\n",
       "      <td>False</td>\n",
       "    </tr>\n",
       "    <tr>\n",
       "      <th>3</th>\n",
       "      <td>Крупенина О. Н.</td>\n",
       "      <td>На карте Градостроительного зонирования \"Грани...</td>\n",
       "      <td>1. Предложение предусмотрено проектом ПЗЗ. На ...</td>\n",
       "      <td>1</td>\n",
       "      <td>6</td>\n",
       "      <td>True</td>\n",
       "      <td>3</td>\n",
       "      <td>False</td>\n",
       "    </tr>\n",
       "    <tr>\n",
       "      <th>4</th>\n",
       "      <td>Терехов А. С.</td>\n",
       "      <td>Внести в Проект правил землепользования и заст...</td>\n",
       "      <td>Предложение не рекомендовано к учёту. Отсутств...</td>\n",
       "      <td>1</td>\n",
       "      <td>6</td>\n",
       "      <td>True</td>\n",
       "      <td>4</td>\n",
       "      <td>False</td>\n",
       "    </tr>\n",
       "  </tbody>\n",
       "</table>\n",
       "</div>"
      ],
      "text/plain": [
       "                 fio                                            comment  \\\n",
       "0    Захаренко В. А.  Во все разделы правил землепользования и застр...   \n",
       "1  Калантарова Ю. В.  На основании вступившего в законную силу судеб...   \n",
       "2         Ткач Е. В.  В картах ПЗЗ не отражены \"Защитные зоны ОКН\" (...   \n",
       "3    Крупенина О. Н.  На карте Градостроительного зонирования \"Грани...   \n",
       "4      Терехов А. С.  Внести в Проект правил землепользования и заст...   \n",
       "\n",
       "                                          resolution  part  page exact_page  \\\n",
       "0  Предложения, относящиеся к предмету публичных ...     1     1       True   \n",
       "1  Предложения, относящиеся к предмету публичных ...     1     1       True   \n",
       "2  Замечание рекомендовано к учёту. Рекомендовать...     1     5       True   \n",
       "3  1. Предложение предусмотрено проектом ПЗЗ. На ...     1     6       True   \n",
       "4  Предложение не рекомендовано к учёту. Отсутств...     1     6       True   \n",
       "\n",
       "   orig_id list_flag  \n",
       "0        0     False  \n",
       "1        1     False  \n",
       "2        2     False  \n",
       "3        3     False  \n",
       "4        4     False  "
      ]
     },
     "execution_count": 60,
     "metadata": {},
     "output_type": "execute_result"
    }
   ],
   "source": [
    "ndf.head()"
   ]
  },
  {
   "cell_type": "code",
   "execution_count": 61,
   "metadata": {},
   "outputs": [
    {
     "data": {
      "text/plain": [
       "(114011, 8)"
      ]
     },
     "execution_count": 61,
     "metadata": {},
     "output_type": "execute_result"
    }
   ],
   "source": [
    "ndf.shape"
   ]
  },
  {
   "cell_type": "code",
   "execution_count": 62,
   "metadata": {
    "collapsed": true
   },
   "outputs": [],
   "source": [
    "ndf.to_excel('data_progress/2 PZZ.xlsx')"
   ]
  },
  {
   "cell_type": "markdown",
   "metadata": {},
   "source": [
    "------"
   ]
  },
  {
   "cell_type": "markdown",
   "metadata": {},
   "source": [
    "------"
   ]
  },
  {
   "cell_type": "markdown",
   "metadata": {},
   "source": [
    "# Архив: Скрипт для интерполяции неизвестных страниц"
   ]
  },
  {
   "cell_type": "raw",
   "metadata": {},
   "source": [
    "next_exact_page_id = [i if ndf.exact_page.iloc[i] else ndf.page[i:][ndf.exact_page].index[0] for i in tqdm(range(len(ndf.page)))]"
   ]
  },
  {
   "cell_type": "raw",
   "metadata": {},
   "source": [
    "prev_exact_page_id = [i if ndf.exact_page.iloc[i] else ndf.page[:(i+1)][ndf.exact_page].index[-1] for i in tqdm(range(len(ndf.page)))]"
   ]
  },
  {
   "cell_type": "raw",
   "metadata": {},
   "source": [
    "def get_page_approximation(i):\n",
    "    id_p = prev_exact_page_id[i]\n",
    "    id_n = next_exact_page_id[i]\n",
    "    p_p = ndf.page.iloc[next_exact_page_id[i]]\n",
    "    if id_n == id_p:\n",
    "        return p_p\n",
    "    p_n = ndf.page.iloc[next_exact_page_id[i]]\n",
    "    return p_p + (p_n - p_p) * (id_n - i) / (id_n - id_p)"
   ]
  },
  {
   "cell_type": "raw",
   "metadata": {
    "collapsed": true
   },
   "source": [
    "page = [get_page_approximation(i) for i in range(len(ndf))]"
   ]
  },
  {
   "cell_type": "markdown",
   "metadata": {},
   "source": [
    "# Архив: Для поиска ошибок"
   ]
  },
  {
   "cell_type": "raw",
   "metadata": {},
   "source": [
    "len(df)\n",
    "len(ndf)\n",
    "ndf.orig_id.value_counts()\n",
    "ndf[ndf.orig_id==40538].fio.apply(lambda x: len(x.split())).value_counts()\n",
    "ndf[(ndf.orig_id==40538)&(ndf.fio.apply(lambda x: len(x.split()))==2)]\n",
    "get_fio_list(df.fio.iloc[40539])\n",
    "df.iloc[40539].fio"
   ]
  },
  {
   "cell_type": "raw",
   "metadata": {
    "collapsed": true
   },
   "source": [
    "def print_list(l):\n",
    "    if isinstance(l, pd.Series):\n",
    "        print('\\n'.join(l.index.astype(str) +' - '+ l.astype(str)))\n",
    "    else:\n",
    "        print('\\n'.join(l))"
   ]
  },
  {
   "cell_type": "raw",
   "metadata": {
    "collapsed": true
   },
   "source": [
    "def show_problems_with_env(df):\n",
    "    df['matches_fio'] = df.fio.apply(matches_fio_pattern)\n",
    "    show = ~df.matches_fio\n",
    "    print(show.value_counts())\n",
    "    res = show.copy()\n",
    "    for i in range(len(show)):\n",
    "        if sum(show[max(0,i-1):(i+2)])>0:\n",
    "            res[i] = True\n",
    "    return df[res]\n",
    "\n",
    "def show_problems_without_env(df, print_top=True):\n",
    "    matches_fio = df.fio.apply(matches_fio_pattern)\n",
    "    typical = pd.Series([f in {'Житель', '(Не представился)'} for f in df.fio])\n",
    "    first_letter_uppercase = pd.Series([c[0].upper()==c[0] or c.startswith('проект') if c else True for c in df.comment])\n",
    "    error = ~(matches_fio | typical | first_letter_uppercase)\n",
    "    error_b = pd.Series(list(error[1:])+[False])\n",
    "    error_f = pd.Series([False]+list(error[:-1]))\n",
    "    print(error.value_counts())\n",
    "    if print_top:\n",
    "        print_list(df[error].fio)\n",
    "    return df[error].fio, df[error|error_b|error_f].fio, error|error_b|error_f, error"
   ]
  }
 ],
 "metadata": {
  "anaconda-cloud": {},
  "kernelspec": {
   "display_name": "Python [Root]",
   "language": "python",
   "name": "Python [Root]"
  },
  "language_info": {
   "codemirror_mode": {
    "name": "ipython",
    "version": 3
   },
   "file_extension": ".py",
   "mimetype": "text/x-python",
   "name": "python",
   "nbconvert_exporter": "python",
   "pygments_lexer": "ipython3",
   "version": "3.5.2"
  }
 },
 "nbformat": 4,
 "nbformat_minor": 2
}
