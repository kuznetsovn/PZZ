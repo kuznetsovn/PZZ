{
 "cells": [
  {
   "cell_type": "code",
   "execution_count": 1,
   "metadata": {
    "collapsed": true
   },
   "outputs": [],
   "source": [
    "import warnings\n",
    "warnings.simplefilter('ignore')\n",
    "\n",
    "import re\n",
    "import numpy as np\n",
    "import pandas as pd\n",
    "\n",
    "from matplotlib import pyplot as plt\n",
    "%matplotlib inline\n",
    "import seaborn as sns\n",
    "\n",
    "from tqdm import tqdm"
   ]
  },
  {
   "cell_type": "code",
   "execution_count": 2,
   "metadata": {
    "collapsed": true
   },
   "outputs": [],
   "source": [
    "fr1 = pd.read_excel('data_original/finereader/pzz_1_8279.xlsx', header=None)\n",
    "fr2 = pd.read_excel('data_original/finereader/pzz_8279_end.xlsx', header=None)"
   ]
  },
  {
   "cell_type": "code",
   "execution_count": 3,
   "metadata": {
    "scrolled": false
   },
   "outputs": [
    {
     "data": {
      "text/html": [
       "<div>\n",
       "<table border=\"1\" class=\"dataframe\">\n",
       "  <thead>\n",
       "    <tr style=\"text-align: right;\">\n",
       "      <th></th>\n",
       "      <th>0</th>\n",
       "      <th>1</th>\n",
       "      <th>2</th>\n",
       "      <th>3</th>\n",
       "      <th>4</th>\n",
       "      <th>5</th>\n",
       "      <th>6</th>\n",
       "      <th>7</th>\n",
       "      <th>8</th>\n",
       "      <th>9</th>\n",
       "      <th>10</th>\n",
       "      <th>11</th>\n",
       "      <th>12</th>\n",
       "      <th>13</th>\n",
       "      <th>14</th>\n",
       "    </tr>\n",
       "  </thead>\n",
       "  <tbody>\n",
       "    <tr>\n",
       "      <th>0</th>\n",
       "      <td>Крупенина О.Н.</td>\n",
       "      <td>NaN</td>\n",
       "      <td>NaN</td>\n",
       "      <td>NaN</td>\n",
       "      <td>NaN</td>\n",
       "      <td>NaN</td>\n",
       "      <td>NaN</td>\n",
       "      <td>NaN</td>\n",
       "      <td>NaN</td>\n",
       "      <td>NaN</td>\n",
       "      <td>NaN</td>\n",
       "      <td>NaN</td>\n",
       "      <td>NaN</td>\n",
       "      <td>NaN</td>\n",
       "      <td>NaN</td>\n",
       "    </tr>\n",
       "    <tr>\n",
       "      <th>1</th>\n",
       "      <td>NaN</td>\n",
       "      <td>NaN</td>\n",
       "      <td>NaN</td>\n",
       "      <td>NaN</td>\n",
       "      <td>NaN</td>\n",
       "      <td>NaN</td>\n",
       "      <td>NaN</td>\n",
       "      <td>NaN</td>\n",
       "      <td>NaN</td>\n",
       "      <td>NaN</td>\n",
       "      <td>NaN</td>\n",
       "      <td>NaN</td>\n",
       "      <td>NaN</td>\n",
       "      <td>NaN</td>\n",
       "      <td>NaN</td>\n",
       "    </tr>\n",
       "    <tr>\n",
       "      <th>2</th>\n",
       "      <td>\"Защитных зонах\" есть ГПЗУ. Считаю, что проект...</td>\n",
       "      <td>NaN</td>\n",
       "      <td>NaN</td>\n",
       "      <td>NaN</td>\n",
       "      <td>NaN</td>\n",
       "      <td>NaN</td>\n",
       "      <td>NaN</td>\n",
       "      <td>NaN</td>\n",
       "      <td>NaN</td>\n",
       "      <td>NaN</td>\n",
       "      <td>NaN</td>\n",
       "      <td>NaN</td>\n",
       "      <td>NaN</td>\n",
       "      <td>NaN</td>\n",
       "      <td>NaN</td>\n",
       "    </tr>\n",
       "  </tbody>\n",
       "</table>\n",
       "</div>"
      ],
      "text/plain": [
       "                                                  0    1    2    3    4    5   \\\n",
       "0                                     Крупенина О.Н.  NaN  NaN  NaN  NaN  NaN   \n",
       "1                                                NaN  NaN  NaN  NaN  NaN  NaN   \n",
       "2  \"Защитных зонах\" есть ГПЗУ. Считаю, что проект...  NaN  NaN  NaN  NaN  NaN   \n",
       "\n",
       "    6    7    8    9    10   11   12   13   14  \n",
       "0  NaN  NaN  NaN  NaN  NaN  NaN  NaN  NaN  NaN  \n",
       "1  NaN  NaN  NaN  NaN  NaN  NaN  NaN  NaN  NaN  \n",
       "2  NaN  NaN  NaN  NaN  NaN  NaN  NaN  NaN  NaN  "
      ]
     },
     "execution_count": 3,
     "metadata": {},
     "output_type": "execute_result"
    }
   ],
   "source": [
    "fr1.head(3)"
   ]
  },
  {
   "cell_type": "code",
   "execution_count": 4,
   "metadata": {
    "scrolled": false
   },
   "outputs": [
    {
     "data": {
      "text/html": [
       "<div>\n",
       "<table border=\"1\" class=\"dataframe\">\n",
       "  <thead>\n",
       "    <tr style=\"text-align: right;\">\n",
       "      <th></th>\n",
       "      <th>0</th>\n",
       "      <th>1</th>\n",
       "      <th>2</th>\n",
       "      <th>3</th>\n",
       "      <th>4</th>\n",
       "      <th>5</th>\n",
       "      <th>6</th>\n",
       "    </tr>\n",
       "  </thead>\n",
       "  <tbody>\n",
       "    <tr>\n",
       "      <th>0</th>\n",
       "      <td>Александр Иванович</td>\n",
       "      <td>NaN</td>\n",
       "      <td>NaN</td>\n",
       "      <td>NaN</td>\n",
       "      <td>NaN</td>\n",
       "      <td>NaN</td>\n",
       "      <td>NaN</td>\n",
       "    </tr>\n",
       "    <tr>\n",
       "      <th>1</th>\n",
       "      <td>Мокеева Г.Л.</td>\n",
       "      <td>Я согласен с ПЗЗ чтобы жилательно снести хруще...</td>\n",
       "      <td>Принято к сведению.</td>\n",
       "      <td>NaN</td>\n",
       "      <td>NaN</td>\n",
       "      <td>NaN</td>\n",
       "      <td>NaN</td>\n",
       "    </tr>\n",
       "    <tr>\n",
       "      <th>2</th>\n",
       "      <td>Марей ев Валерий Анатольевич</td>\n",
       "      <td>Я согласен с проектом ПЗЗ Больше бесплатных па...</td>\n",
       "      <td>Принято к сведению. Предложения/замечания, отн...</td>\n",
       "      <td>NaN</td>\n",
       "      <td>NaN</td>\n",
       "      <td>NaN</td>\n",
       "      <td>NaN</td>\n",
       "    </tr>\n",
       "  </tbody>\n",
       "</table>\n",
       "</div>"
      ],
      "text/plain": [
       "                              0  \\\n",
       "0            Александр Иванович   \n",
       "1                  Мокеева Г.Л.   \n",
       "2  Марей ев Валерий Анатольевич   \n",
       "\n",
       "                                                   1  \\\n",
       "0                                                NaN   \n",
       "1  Я согласен с ПЗЗ чтобы жилательно снести хруще...   \n",
       "2  Я согласен с проектом ПЗЗ Больше бесплатных па...   \n",
       "\n",
       "                                                   2    3    4    5    6  \n",
       "0                                                NaN  NaN  NaN  NaN  NaN  \n",
       "1                                Принято к сведению.  NaN  NaN  NaN  NaN  \n",
       "2  Принято к сведению. Предложения/замечания, отн...  NaN  NaN  NaN  NaN  "
      ]
     },
     "execution_count": 4,
     "metadata": {},
     "output_type": "execute_result"
    }
   ],
   "source": [
    "fr2.head(3)"
   ]
  },
  {
   "cell_type": "code",
   "execution_count": 5,
   "metadata": {},
   "outputs": [
    {
     "data": {
      "text/html": [
       "<div>\n",
       "<table border=\"1\" class=\"dataframe\">\n",
       "  <thead>\n",
       "    <tr style=\"text-align: right;\">\n",
       "      <th></th>\n",
       "      <th>0</th>\n",
       "      <th>1</th>\n",
       "      <th>2</th>\n",
       "      <th>3</th>\n",
       "      <th>4</th>\n",
       "      <th>5</th>\n",
       "      <th>6</th>\n",
       "      <th>7</th>\n",
       "      <th>8</th>\n",
       "      <th>9</th>\n",
       "      <th>10</th>\n",
       "      <th>11</th>\n",
       "      <th>12</th>\n",
       "      <th>13</th>\n",
       "      <th>14</th>\n",
       "    </tr>\n",
       "  </thead>\n",
       "  <tbody>\n",
       "    <tr>\n",
       "      <th>count</th>\n",
       "      <td>199291</td>\n",
       "      <td>37725</td>\n",
       "      <td>33630</td>\n",
       "      <td>584</td>\n",
       "      <td>192</td>\n",
       "      <td>90</td>\n",
       "      <td>46</td>\n",
       "      <td>26</td>\n",
       "      <td>23</td>\n",
       "      <td>10</td>\n",
       "      <td>16</td>\n",
       "      <td>1</td>\n",
       "      <td>13</td>\n",
       "      <td>18</td>\n",
       "      <td>2</td>\n",
       "    </tr>\n",
       "    <tr>\n",
       "      <th>unique</th>\n",
       "      <td>117914</td>\n",
       "      <td>18679</td>\n",
       "      <td>4984</td>\n",
       "      <td>353</td>\n",
       "      <td>82</td>\n",
       "      <td>47</td>\n",
       "      <td>24</td>\n",
       "      <td>19</td>\n",
       "      <td>22</td>\n",
       "      <td>10</td>\n",
       "      <td>16</td>\n",
       "      <td>1</td>\n",
       "      <td>13</td>\n",
       "      <td>18</td>\n",
       "      <td>2</td>\n",
       "    </tr>\n",
       "    <tr>\n",
       "      <th>top</th>\n",
       "      <td>Обоснование:</td>\n",
       "      <td>Я , житель Юго-Западного округа Москвы, выступ...</td>\n",
       "      <td>Принято к сведению</td>\n",
       "      <td>к</td>\n",
       "      <td>предмету</td>\n",
       "      <td>публичных</td>\n",
       "      <td>публичных</td>\n",
       "      <td>номером</td>\n",
       "      <td>Объекты учебно воспитательного назначения</td>\n",
       "      <td>пред ►•ость по сущ. ик&gt;</td>\n",
       "      <td>15</td>\n",
       "      <td>застро тыс м'/га</td>\n",
       "      <td>рассмотрению Архитекту рным советом города Мо</td>\n",
       "      <td>№«шп&gt;оет»о«'м««проекте ПЗЗ для территориальной...</td>\n",
       "      <td>проекте 1133 для территориальной зоны, в котор...</td>\n",
       "    </tr>\n",
       "    <tr>\n",
       "      <th>freq</th>\n",
       "      <td>918</td>\n",
       "      <td>1874</td>\n",
       "      <td>12545</td>\n",
       "      <td>20</td>\n",
       "      <td>20</td>\n",
       "      <td>20</td>\n",
       "      <td>16</td>\n",
       "      <td>8</td>\n",
       "      <td>2</td>\n",
       "      <td>1</td>\n",
       "      <td>1</td>\n",
       "      <td>1</td>\n",
       "      <td>1</td>\n",
       "      <td>1</td>\n",
       "      <td>1</td>\n",
       "    </tr>\n",
       "  </tbody>\n",
       "</table>\n",
       "</div>"
      ],
      "text/plain": [
       "                  0                                                  1   \\\n",
       "count         199291                                              37725   \n",
       "unique        117914                                              18679   \n",
       "top     Обоснование:  Я , житель Юго-Западного округа Москвы, выступ...   \n",
       "freq             918                                               1874   \n",
       "\n",
       "                        2    3         4          5          6        7   \\\n",
       "count                33630  584       192         90         46       26   \n",
       "unique                4984  353        82         47         24       19   \n",
       "top     Принято к сведению    к  предмету  публичных  публичных  номером   \n",
       "freq                 12545   20        20         20         16        8   \n",
       "\n",
       "                                               8                        9   \\\n",
       "count                                          23                       10   \n",
       "unique                                         22                       10   \n",
       "top     Объекты учебно воспитательного назначения  пред ►•ость по сущ. ик>   \n",
       "freq                                            2                        1   \n",
       "\n",
       "        10                11                                             12  \\\n",
       "count   16                 1                                             13   \n",
       "unique  16                 1                                             13   \n",
       "top     15  застро тыс м'/га  рассмотрению Архитекту рным советом города Мо   \n",
       "freq     1                 1                                              1   \n",
       "\n",
       "                                                       13  \\\n",
       "count                                                  18   \n",
       "unique                                                 18   \n",
       "top     №«шп>оет»о«'м««проекте ПЗЗ для территориальной...   \n",
       "freq                                                    1   \n",
       "\n",
       "                                                       14  \n",
       "count                                                   2  \n",
       "unique                                                  2  \n",
       "top     проекте 1133 для территориальной зоны, в котор...  \n",
       "freq                                                    1  "
      ]
     },
     "execution_count": 5,
     "metadata": {},
     "output_type": "execute_result"
    }
   ],
   "source": [
    "fr1.describe()"
   ]
  },
  {
   "cell_type": "code",
   "execution_count": 6,
   "metadata": {},
   "outputs": [
    {
     "data": {
      "text/html": [
       "<div>\n",
       "<table border=\"1\" class=\"dataframe\">\n",
       "  <thead>\n",
       "    <tr style=\"text-align: right;\">\n",
       "      <th></th>\n",
       "      <th>0</th>\n",
       "      <th>1</th>\n",
       "      <th>2</th>\n",
       "      <th>3</th>\n",
       "      <th>4</th>\n",
       "      <th>5</th>\n",
       "      <th>6</th>\n",
       "    </tr>\n",
       "  </thead>\n",
       "  <tbody>\n",
       "    <tr>\n",
       "      <th>count</th>\n",
       "      <td>65081</td>\n",
       "      <td>27893</td>\n",
       "      <td>27051</td>\n",
       "      <td>193</td>\n",
       "      <td>36</td>\n",
       "      <td>4</td>\n",
       "      <td>2</td>\n",
       "    </tr>\n",
       "    <tr>\n",
       "      <th>unique</th>\n",
       "      <td>44027</td>\n",
       "      <td>9455</td>\n",
       "      <td>1031</td>\n",
       "      <td>64</td>\n",
       "      <td>23</td>\n",
       "      <td>4</td>\n",
       "      <td>2</td>\n",
       "    </tr>\n",
       "    <tr>\n",
       "      <th>top</th>\n",
       "      <td>Замечание не рекомендовано к учету. В проекте ...</td>\n",
       "      <td>Да, поддерживаю</td>\n",
       "      <td>Принято к сведению.</td>\n",
       "      <td>Принято к сведению.</td>\n",
       "      <td>Принято к сведению.</td>\n",
       "      <td>Одобрение ППТ</td>\n",
       "      <td>от 15.12.15 №888-1111</td>\n",
       "    </tr>\n",
       "    <tr>\n",
       "      <th>freq</th>\n",
       "      <td>160</td>\n",
       "      <td>4382</td>\n",
       "      <td>11628</td>\n",
       "      <td>125</td>\n",
       "      <td>11</td>\n",
       "      <td>1</td>\n",
       "      <td>1</td>\n",
       "    </tr>\n",
       "  </tbody>\n",
       "</table>\n",
       "</div>"
      ],
      "text/plain": [
       "                                                        0                1  \\\n",
       "count                                               65081            27893   \n",
       "unique                                              44027             9455   \n",
       "top     Замечание не рекомендовано к учету. В проекте ...  Да, поддерживаю   \n",
       "freq                                                  160             4382   \n",
       "\n",
       "                          2                    3                    4  \\\n",
       "count                 27051                  193                   36   \n",
       "unique                 1031                   64                   23   \n",
       "top     Принято к сведению.  Принято к сведению.  Принято к сведению.   \n",
       "freq                  11628                  125                   11   \n",
       "\n",
       "                    5                      6  \n",
       "count               4                      2  \n",
       "unique              4                      2  \n",
       "top     Одобрение ППТ  от 15.12.15 №888-1111  \n",
       "freq                1                      1  "
      ]
     },
     "execution_count": 6,
     "metadata": {},
     "output_type": "execute_result"
    }
   ],
   "source": [
    "fr2.describe()"
   ]
  },
  {
   "cell_type": "markdown",
   "metadata": {},
   "source": [
    "Видим кучу левых столбцов, будем удалять"
   ]
  },
  {
   "cell_type": "markdown",
   "metadata": {},
   "source": [
    "### Извлечём номера страниц из текста"
   ]
  },
  {
   "cell_type": "markdown",
   "metadata": {},
   "source": [
    "Идея: по каждой строчке складываем значения по всем столбцам, если результат - число - то это номер страницы. Но нужно также и отфильтровать неправдоподобное (следующий номер на 1 больше предыдущего) и заполнить пропуски"
   ]
  },
  {
   "cell_type": "code",
   "execution_count": 7,
   "metadata": {
    "collapsed": true
   },
   "outputs": [],
   "source": [
    "def get_text_value(v):\n",
    "    return v if v and v is not np.nan else ''\n",
    "\n",
    "def get_int_value(v):\n",
    "    try:\n",
    "        return int(v)\n",
    "    except:\n",
    "        return None\n",
    "\n",
    "def get_page_numbers(df, start_page_number = 1):\n",
    "    row_values_concatenation = df[df.columns[0]].apply(get_text_value)\n",
    "    for col in df.columns[1:]:\n",
    "        row_values_concatenation += df[col].apply(get_text_value)\n",
    "    row_int_values_concatenation = row_values_concatenation.apply(get_int_value)\n",
    "    page_numbers = row_int_values_concatenation.copy()\n",
    "\n",
    "    cur_page = start_page_number\n",
    "    for i in page_numbers.keys():\n",
    "        if np.isnan(page_numbers[i]) or page_numbers[i]<cur_page or page_numbers[i]>cur_page+10:\n",
    "            page_numbers[i]=cur_page\n",
    "        else:\n",
    "            cur_page = page_numbers[i]\n",
    "    \n",
    "    return (page_numbers+1).astype(int), row_int_values_concatenation"
   ]
  },
  {
   "cell_type": "code",
   "execution_count": 8,
   "metadata": {
    "collapsed": true
   },
   "outputs": [],
   "source": [
    "fr1['page'], rn1 = get_page_numbers(fr1)"
   ]
  },
  {
   "cell_type": "code",
   "execution_count": 9,
   "metadata": {
    "collapsed": true
   },
   "outputs": [],
   "source": [
    "fr2['page'], rn2 = get_page_numbers(fr2, start_page_number=8279)"
   ]
  },
  {
   "cell_type": "markdown",
   "metadata": {},
   "source": [
    "### Выделим номера приложений по страницам"
   ]
  },
  {
   "cell_type": "code",
   "execution_count": 10,
   "metadata": {
    "collapsed": true
   },
   "outputs": [],
   "source": [
    "def get_doc_part(page_num):\n",
    "    PAGE_STARTS = [1, 602, 1263, 10244, 10390]\n",
    "    for i, ps in enumerate(PAGE_STARTS[1:]):\n",
    "        if page_num < ps:\n",
    "            return i+1\n",
    "    return len(PAGE_STARTS)"
   ]
  },
  {
   "cell_type": "code",
   "execution_count": 11,
   "metadata": {
    "collapsed": true
   },
   "outputs": [],
   "source": [
    "fr1['part'] = fr1.page.apply(get_doc_part)\n",
    "fr2['part'] = fr2.page.apply(get_doc_part)"
   ]
  },
  {
   "cell_type": "markdown",
   "metadata": {},
   "source": [
    "### Удалим лишние столбцы"
   ]
  },
  {
   "cell_type": "code",
   "execution_count": 12,
   "metadata": {
    "collapsed": true
   },
   "outputs": [],
   "source": [
    "cleared_fr1 = fr1[list(fr1.columns[:3])+list(fr1.columns[-2:])]\n",
    "cleared_fr1.columns = ['fio', 'comment', 'resolution', 'page', 'part']\n",
    "\n",
    "cleared_fr2 = fr2[list(fr2.columns[:3])+list(fr2.columns[-2:])]\n",
    "cleared_fr2.columns = ['fio', 'comment', 'resolution', 'page', 'part']\n",
    "\n",
    "df = cleared_fr1.append(cleared_fr2)\n",
    "df.index = range(len(df))"
   ]
  },
  {
   "cell_type": "markdown",
   "metadata": {},
   "source": [
    "### Удалим пустые строчки и сторчки с номерами страниц"
   ]
  },
  {
   "cell_type": "code",
   "execution_count": 13,
   "metadata": {
    "collapsed": true
   },
   "outputs": [],
   "source": [
    "not_empty_strings = ~(df.fio.isnull()&df.comment.isnull()&df.resolution.isnull())\n",
    "rows_not_just_page_numbers = rn1.append(rn2).isnull()\n",
    "rows_not_just_page_numbers.index = range(len(df))\n",
    "df = df[not_empty_strings&rows_not_just_page_numbers]\n",
    "df.index = range(len(df))"
   ]
  },
  {
   "cell_type": "markdown",
   "metadata": {},
   "source": [
    "### Размечаем подходящие на первый взгляд ФИО"
   ]
  },
  {
   "cell_type": "code",
   "execution_count": 14,
   "metadata": {
    "collapsed": true
   },
   "outputs": [],
   "source": [
    "from string import punctuation\n",
    "regex_extra_spaces = re.compile('\\s+')\n",
    "regex_punctuation = re.compile('[%s]' % re.escape(punctuation))\n",
    "\n",
    "def remove_punctuation_and_extra_spaces(t):\n",
    "    t = str(t)\n",
    "    t = regex_punctuation.sub(' ', t)\n",
    "    t = regex_extra_spaces.sub(' ', t)\n",
    "    t = t.strip()\n",
    "    return t"
   ]
  },
  {
   "cell_type": "code",
   "execution_count": 15,
   "metadata": {
    "collapsed": true
   },
   "outputs": [],
   "source": [
    "fio_cap = '[А-ЯЁ][а-яё]+'\n",
    "fio_space = '\\s+'\n",
    "fio_i = '[А-ЯЁа-яёA-Za-z][\\.|\\,]?'\n",
    "fio_ii = fio_i+fio_space+fio_i\n",
    "fio_fio_1part = '[А-ЯЁ][а-яё]+\\s?(?:-|–)\\s?' # двойная фамилия\n",
    "\n",
    "fio_patterns = [\n",
    "    fio_fio_1part+fio_cap+fio_space+fio_cap+fio_space+fio_cap,\n",
    "    fio_fio_1part+fio_cap+fio_space+fio_cap,\n",
    "    fio_fio_1part+fio_cap+fio_space+fio_ii,\n",
    "    fio_fio_1part+fio_cap+fio_space+fio_i,\n",
    "\n",
    "    fio_cap+fio_space+fio_cap+fio_space+fio_cap,\n",
    "    fio_cap+fio_space+fio_cap,\n",
    "    fio_cap+fio_space+fio_ii,\n",
    "    fio_cap+fio_space+fio_i,\n",
    "\n",
    "    fio_ii+fio_space+fio_cap,\n",
    "    \n",
    "    fio_cap+fio_space+fio_i,\n",
    "    fio_cap\n",
    "]\n",
    "fio_pattern = '|'.join(['('+i+')\\\\b' for i in fio_patterns])\n",
    "fio_regex = re.compile(fio_pattern)"
   ]
  },
  {
   "cell_type": "code",
   "execution_count": 16,
   "metadata": {
    "collapsed": true
   },
   "outputs": [],
   "source": [
    "def matches_fio_pattern(t):\n",
    "    matches_fio = fio_regex.sub('', remove_punctuation_and_extra_spaces(t)).strip() == ''\n",
    "    colletive_thing = '(коллективн' in str(t) and len(t)<100 and len(fio_regex.findall(t))>0\n",
    "    return matches_fio or colletive_thing"
   ]
  },
  {
   "cell_type": "code",
   "execution_count": 17,
   "metadata": {
    "collapsed": true
   },
   "outputs": [],
   "source": [
    "df['matches_fio'] = df.fio.apply(matches_fio_pattern)"
   ]
  },
  {
   "cell_type": "code",
   "execution_count": 18,
   "metadata": {
    "scrolled": true
   },
   "outputs": [
    {
     "data": {
      "text/plain": [
       "False    152068\n",
       "True     106979\n",
       "Name: matches_fio, dtype: int64"
      ]
     },
     "execution_count": 18,
     "metadata": {},
     "output_type": "execute_result"
    }
   ],
   "source": [
    "df.matches_fio.value_counts()"
   ]
  },
  {
   "cell_type": "markdown",
   "metadata": {},
   "source": [
    "--------"
   ]
  },
  {
   "cell_type": "markdown",
   "metadata": {},
   "source": [
    "# Сохраняем жадный результат: оставляем только валидные строчки"
   ]
  },
  {
   "cell_type": "code",
   "execution_count": 19,
   "metadata": {
    "collapsed": true
   },
   "outputs": [],
   "source": [
    "df_res = df[df.matches_fio&((~df.comment.isnull())&(~df.resolution.isnull()))]\n",
    "df_res.index = range(len(df_res))"
   ]
  },
  {
   "cell_type": "code",
   "execution_count": 20,
   "metadata": {
    "collapsed": true
   },
   "outputs": [],
   "source": [
    "df_res = df_res[['part','page','fio','comment','resolution']]"
   ]
  },
  {
   "cell_type": "code",
   "execution_count": 21,
   "metadata": {},
   "outputs": [
    {
     "data": {
      "text/html": [
       "<div>\n",
       "<table border=\"1\" class=\"dataframe\">\n",
       "  <thead>\n",
       "    <tr style=\"text-align: right;\">\n",
       "      <th></th>\n",
       "      <th>part</th>\n",
       "      <th>page</th>\n",
       "      <th>fio</th>\n",
       "      <th>comment</th>\n",
       "      <th>resolution</th>\n",
       "    </tr>\n",
       "  </thead>\n",
       "  <tbody>\n",
       "    <tr>\n",
       "      <th>0</th>\n",
       "      <td>1</td>\n",
       "      <td>9</td>\n",
       "      <td>Купцов Л.А.</td>\n",
       "      <td>Учитывая социальную значимость проекта строите...</td>\n",
       "      <td>Предложение не рекомендовано к учёту. Отсутств...</td>\n",
       "    </tr>\n",
       "    <tr>\n",
       "      <th>1</th>\n",
       "      <td>1</td>\n",
       "      <td>9</td>\n",
       "      <td>Макшанцев М.Н.</td>\n",
       "      <td>Установить зону развития по адресу: Новодевичи...</td>\n",
       "      <td>Предложение не рекомендовано к учёту. Отсутств...</td>\n",
       "    </tr>\n",
       "    <tr>\n",
       "      <th>2</th>\n",
       "      <td>1</td>\n",
       "      <td>9</td>\n",
       "      <td>Фомина Г.В.</td>\n",
       "      <td>С проектом ПЗЗ ознакомлена</td>\n",
       "      <td>Принято к сведению</td>\n",
       "    </tr>\n",
       "    <tr>\n",
       "      <th>3</th>\n",
       "      <td>1</td>\n",
       "      <td>9</td>\n",
       "      <td>Чернышов В.Н.</td>\n",
       "      <td>С проектом ПЗЗ ознакомлен. Все хорошо, предлож...</td>\n",
       "      <td>Принято к сведению</td>\n",
       "    </tr>\n",
       "    <tr>\n",
       "      <th>4</th>\n",
       "      <td>1</td>\n",
       "      <td>9</td>\n",
       "      <td>Мешкова Н.С.</td>\n",
       "      <td>С проектом ПЗЗ ознакомлена, предложений замеча...</td>\n",
       "      <td>Принято к сведению</td>\n",
       "    </tr>\n",
       "  </tbody>\n",
       "</table>\n",
       "</div>"
      ],
      "text/plain": [
       "   part  page             fio  \\\n",
       "0     1     9     Купцов Л.А.   \n",
       "1     1     9  Макшанцев М.Н.   \n",
       "2     1     9     Фомина Г.В.   \n",
       "3     1     9   Чернышов В.Н.   \n",
       "4     1     9    Мешкова Н.С.   \n",
       "\n",
       "                                             comment  \\\n",
       "0  Учитывая социальную значимость проекта строите...   \n",
       "1  Установить зону развития по адресу: Новодевичи...   \n",
       "2                         С проектом ПЗЗ ознакомлена   \n",
       "3  С проектом ПЗЗ ознакомлен. Все хорошо, предлож...   \n",
       "4  С проектом ПЗЗ ознакомлена, предложений замеча...   \n",
       "\n",
       "                                          resolution  \n",
       "0  Предложение не рекомендовано к учёту. Отсутств...  \n",
       "1  Предложение не рекомендовано к учёту. Отсутств...  \n",
       "2                                 Принято к сведению  \n",
       "3                                 Принято к сведению  \n",
       "4                                 Принято к сведению  "
      ]
     },
     "execution_count": 21,
     "metadata": {},
     "output_type": "execute_result"
    }
   ],
   "source": [
    "df_res.head()"
   ]
  },
  {
   "cell_type": "code",
   "execution_count": 22,
   "metadata": {},
   "outputs": [
    {
     "data": {
      "text/plain": [
       "(51817, 5)"
      ]
     },
     "execution_count": 22,
     "metadata": {},
     "output_type": "execute_result"
    }
   ],
   "source": [
    "df_res.shape"
   ]
  },
  {
   "cell_type": "code",
   "execution_count": 23,
   "metadata": {
    "collapsed": true
   },
   "outputs": [],
   "source": [
    "df_res.to_excel('data_progress/1 PZZ.xlsx')"
   ]
  },
  {
   "cell_type": "markdown",
   "metadata": {},
   "source": [
    "----"
   ]
  }
 ],
 "metadata": {
  "anaconda-cloud": {},
  "kernelspec": {
   "display_name": "Python 3",
   "language": "python",
   "name": "python3"
  },
  "language_info": {
   "codemirror_mode": {
    "name": "ipython",
    "version": 3
   },
   "file_extension": ".py",
   "mimetype": "text/x-python",
   "name": "python",
   "nbconvert_exporter": "python",
   "pygments_lexer": "ipython3",
   "version": "3.6.0"
  }
 },
 "nbformat": 4,
 "nbformat_minor": 2
}
