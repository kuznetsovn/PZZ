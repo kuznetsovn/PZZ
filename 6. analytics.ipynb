{
 "cells": [
  {
   "cell_type": "code",
   "execution_count": 1,
   "metadata": {
    "collapsed": true
   },
   "outputs": [],
   "source": [
    "import numpy as np\n",
    "import pandas as pd\n",
    "from tqdm import tqdm\n",
    "\n",
    "from matplotlib import pyplot as plt\n",
    "%matplotlib inline\n",
    "import seaborn as sns\n",
    "\n",
    "import warnings\n",
    "warnings.simplefilter('ignore')"
   ]
  },
  {
   "cell_type": "code",
   "execution_count": 2,
   "metadata": {
    "collapsed": true
   },
   "outputs": [],
   "source": [
    "df = pd.read_excel('data_progress/4 PZZ.xlsx')\n",
    "df[\"geocodes\"] = df.geocodes.apply(eval)"
   ]
  },
  {
   "cell_type": "code",
   "execution_count": 3,
   "metadata": {},
   "outputs": [
    {
     "data": {
      "text/plain": [
       "Index(['fio', 'comment', 'resolution', 'part', 'page', 'exact_page', 'orig_id',\n",
       "       'list_flag', 'fio_n', 'fio_n_popularity', 'comment_len',\n",
       "       'resolution_len', 'comment_popularity', 'resolution_popularity',\n",
       "       'comment_list_popularity', 'multiplier', 'comment_class_manual',\n",
       "       'resolution_class_manual', 'comment_class_prediction',\n",
       "       'resolution_class_prediction', 'comment_class', 'resolution_class',\n",
       "       'geocodes', 'geocodes_number'],\n",
       "      dtype='object')"
      ]
     },
     "execution_count": 3,
     "metadata": {},
     "output_type": "execute_result"
    }
   ],
   "source": [
    "df.columns"
   ]
  },
  {
   "cell_type": "code",
   "execution_count": 4,
   "metadata": {},
   "outputs": [
    {
     "data": {
      "text/html": [
       "<div>\n",
       "<table border=\"1\" class=\"dataframe\">\n",
       "  <thead>\n",
       "    <tr style=\"text-align: right;\">\n",
       "      <th></th>\n",
       "      <th>fio</th>\n",
       "      <th>comment</th>\n",
       "      <th>resolution</th>\n",
       "      <th>part</th>\n",
       "      <th>page</th>\n",
       "      <th>exact_page</th>\n",
       "      <th>orig_id</th>\n",
       "      <th>list_flag</th>\n",
       "      <th>fio_n</th>\n",
       "      <th>fio_n_popularity</th>\n",
       "      <th>...</th>\n",
       "      <th>comment_list_popularity</th>\n",
       "      <th>multiplier</th>\n",
       "      <th>comment_class_manual</th>\n",
       "      <th>resolution_class_manual</th>\n",
       "      <th>comment_class_prediction</th>\n",
       "      <th>resolution_class_prediction</th>\n",
       "      <th>comment_class</th>\n",
       "      <th>resolution_class</th>\n",
       "      <th>geocodes</th>\n",
       "      <th>geocodes_number</th>\n",
       "    </tr>\n",
       "  </thead>\n",
       "  <tbody>\n",
       "    <tr>\n",
       "      <th>0</th>\n",
       "      <td>Захаренко В. А.</td>\n",
       "      <td>Во все разделы правил землепользования и застр...</td>\n",
       "      <td>Предложения, относящиеся к предмету публичных ...</td>\n",
       "      <td>1</td>\n",
       "      <td>1</td>\n",
       "      <td>True</td>\n",
       "      <td>0</td>\n",
       "      <td>False</td>\n",
       "      <td>Захаренко В. А.</td>\n",
       "      <td>2.0</td>\n",
       "      <td>...</td>\n",
       "      <td>1</td>\n",
       "      <td>1</td>\n",
       "      <td>-1.0</td>\n",
       "      <td>-1.0</td>\n",
       "      <td>-1</td>\n",
       "      <td>-1</td>\n",
       "      <td>-1</td>\n",
       "      <td>-1</td>\n",
       "      <td>[{'house': None, 'coordinates': [37.612416, 55...</td>\n",
       "      <td>1</td>\n",
       "    </tr>\n",
       "    <tr>\n",
       "      <th>1</th>\n",
       "      <td>Калантарова Ю. В.</td>\n",
       "      <td>На основании вступившего в законную силу судеб...</td>\n",
       "      <td>Предложения, относящиеся к предмету публичных ...</td>\n",
       "      <td>1</td>\n",
       "      <td>1</td>\n",
       "      <td>True</td>\n",
       "      <td>1</td>\n",
       "      <td>False</td>\n",
       "      <td>Калантарова Ю. В.</td>\n",
       "      <td>3.0</td>\n",
       "      <td>...</td>\n",
       "      <td>1</td>\n",
       "      <td>1</td>\n",
       "      <td>-1.0</td>\n",
       "      <td>-1.0</td>\n",
       "      <td>-1</td>\n",
       "      <td>-1</td>\n",
       "      <td>-1</td>\n",
       "      <td>-1</td>\n",
       "      <td>[{'house': None, 'coordinates': [37.612416, 55...</td>\n",
       "      <td>1</td>\n",
       "    </tr>\n",
       "    <tr>\n",
       "      <th>2</th>\n",
       "      <td>Ткач Е. В.</td>\n",
       "      <td>В картах ПЗЗ не отражены \"Защитные зоны ОКН\" (...</td>\n",
       "      <td>Замечание рекомендовано к учёту. Рекомендовать...</td>\n",
       "      <td>1</td>\n",
       "      <td>5</td>\n",
       "      <td>True</td>\n",
       "      <td>2</td>\n",
       "      <td>False</td>\n",
       "      <td>Ткач Е. В.</td>\n",
       "      <td>4.0</td>\n",
       "      <td>...</td>\n",
       "      <td>1</td>\n",
       "      <td>1</td>\n",
       "      <td>-1.0</td>\n",
       "      <td>-1.0</td>\n",
       "      <td>-1</td>\n",
       "      <td>-1</td>\n",
       "      <td>-1</td>\n",
       "      <td>-1</td>\n",
       "      <td>[]</td>\n",
       "      <td>0</td>\n",
       "    </tr>\n",
       "    <tr>\n",
       "      <th>3</th>\n",
       "      <td>Крупенина О. Н.</td>\n",
       "      <td>На карте Градостроительного зонирования \"Грани...</td>\n",
       "      <td>1. Предложение предусмотрено проектом ПЗЗ. На ...</td>\n",
       "      <td>1</td>\n",
       "      <td>6</td>\n",
       "      <td>True</td>\n",
       "      <td>3</td>\n",
       "      <td>False</td>\n",
       "      <td>Крупенина О. Н.</td>\n",
       "      <td>1.0</td>\n",
       "      <td>...</td>\n",
       "      <td>1</td>\n",
       "      <td>1</td>\n",
       "      <td>1.0</td>\n",
       "      <td>-1.0</td>\n",
       "      <td>-1</td>\n",
       "      <td>-1</td>\n",
       "      <td>1</td>\n",
       "      <td>-1</td>\n",
       "      <td>[]</td>\n",
       "      <td>0</td>\n",
       "    </tr>\n",
       "    <tr>\n",
       "      <th>4</th>\n",
       "      <td>Терехов А. С.</td>\n",
       "      <td>Внести в Проект правил землепользования и заст...</td>\n",
       "      <td>Предложение не рекомендовано к учёту. Отсутств...</td>\n",
       "      <td>1</td>\n",
       "      <td>6</td>\n",
       "      <td>True</td>\n",
       "      <td>4</td>\n",
       "      <td>False</td>\n",
       "      <td>Терехов А. С.</td>\n",
       "      <td>2.0</td>\n",
       "      <td>...</td>\n",
       "      <td>1</td>\n",
       "      <td>1</td>\n",
       "      <td>-1.0</td>\n",
       "      <td>-1.0</td>\n",
       "      <td>-1</td>\n",
       "      <td>-1</td>\n",
       "      <td>-1</td>\n",
       "      <td>-1</td>\n",
       "      <td>[{'house': None, 'coordinates': [37.603298, 55...</td>\n",
       "      <td>1</td>\n",
       "    </tr>\n",
       "  </tbody>\n",
       "</table>\n",
       "<p>5 rows × 24 columns</p>\n",
       "</div>"
      ],
      "text/plain": [
       "                 fio                                            comment  \\\n",
       "0    Захаренко В. А.  Во все разделы правил землепользования и застр...   \n",
       "1  Калантарова Ю. В.  На основании вступившего в законную силу судеб...   \n",
       "2         Ткач Е. В.  В картах ПЗЗ не отражены \"Защитные зоны ОКН\" (...   \n",
       "3    Крупенина О. Н.  На карте Градостроительного зонирования \"Грани...   \n",
       "4      Терехов А. С.  Внести в Проект правил землепользования и заст...   \n",
       "\n",
       "                                          resolution  part  page exact_page  \\\n",
       "0  Предложения, относящиеся к предмету публичных ...     1     1       True   \n",
       "1  Предложения, относящиеся к предмету публичных ...     1     1       True   \n",
       "2  Замечание рекомендовано к учёту. Рекомендовать...     1     5       True   \n",
       "3  1. Предложение предусмотрено проектом ПЗЗ. На ...     1     6       True   \n",
       "4  Предложение не рекомендовано к учёту. Отсутств...     1     6       True   \n",
       "\n",
       "   orig_id list_flag              fio_n  fio_n_popularity       ...         \\\n",
       "0        0     False    Захаренко В. А.               2.0       ...          \n",
       "1        1     False  Калантарова Ю. В.               3.0       ...          \n",
       "2        2     False         Ткач Е. В.               4.0       ...          \n",
       "3        3     False    Крупенина О. Н.               1.0       ...          \n",
       "4        4     False      Терехов А. С.               2.0       ...          \n",
       "\n",
       "   comment_list_popularity  multiplier  comment_class_manual  \\\n",
       "0                        1           1                  -1.0   \n",
       "1                        1           1                  -1.0   \n",
       "2                        1           1                  -1.0   \n",
       "3                        1           1                   1.0   \n",
       "4                        1           1                  -1.0   \n",
       "\n",
       "   resolution_class_manual  comment_class_prediction  \\\n",
       "0                     -1.0                        -1   \n",
       "1                     -1.0                        -1   \n",
       "2                     -1.0                        -1   \n",
       "3                     -1.0                        -1   \n",
       "4                     -1.0                        -1   \n",
       "\n",
       "   resolution_class_prediction  comment_class  resolution_class  \\\n",
       "0                           -1             -1                -1   \n",
       "1                           -1             -1                -1   \n",
       "2                           -1             -1                -1   \n",
       "3                           -1              1                -1   \n",
       "4                           -1             -1                -1   \n",
       "\n",
       "                                            geocodes  geocodes_number  \n",
       "0  [{'house': None, 'coordinates': [37.612416, 55...                1  \n",
       "1  [{'house': None, 'coordinates': [37.612416, 55...                1  \n",
       "2                                                 []                0  \n",
       "3                                                 []                0  \n",
       "4  [{'house': None, 'coordinates': [37.603298, 55...                1  \n",
       "\n",
       "[5 rows x 24 columns]"
      ]
     },
     "execution_count": 4,
     "metadata": {},
     "output_type": "execute_result"
    }
   ],
   "source": [
    "df.head()"
   ]
  },
  {
   "cell_type": "markdown",
   "metadata": {},
   "source": [
    "# Общая статистика"
   ]
  },
  {
   "cell_type": "code",
   "execution_count": 5,
   "metadata": {},
   "outputs": [
    {
     "data": {
      "text/plain": [
       "comment_class\n",
       "-1    61465\n",
       " 0     6777\n",
       " 1    60610\n",
       "Name: multiplier, dtype: int64"
      ]
     },
     "execution_count": 5,
     "metadata": {},
     "output_type": "execute_result"
    }
   ],
   "source": [
    "df.groupby('comment_class').multiplier.sum()"
   ]
  },
  {
   "cell_type": "markdown",
   "metadata": {},
   "source": [
    "# Популярные люди"
   ]
  },
  {
   "cell_type": "code",
   "execution_count": 6,
   "metadata": {
    "collapsed": true
   },
   "outputs": [],
   "source": [
    "fios_top = df.groupby(by=['fio_n']).page.count().sort_values(ascending=False)"
   ]
  },
  {
   "cell_type": "code",
   "execution_count": 7,
   "metadata": {},
   "outputs": [
    {
     "data": {
      "text/plain": [
       "fio_n\n",
       "Житель              81\n",
       "Степаненко С. В.    47\n",
       "Решение С. Д.       29\n",
       "Участник П. С.      25\n",
       "Иванов А. А.        25\n",
       "Гугушина Ю. Г.      24\n",
       "Иванов А. В.        24\n",
       "Андреев И. Ф.       23\n",
       "Попов А. В.         22\n",
       "Владимировна        22\n",
       "Кузнецов А. В.      21\n",
       "Александровна       19\n",
       "Попова Е. А.        19\n",
       "Чурюмова В. Ю.      19\n",
       "Александрович       19\n",
       "Волкова Е. В.       18\n",
       "Глаголева           18\n",
       "Андреева А. С.      17\n",
       "Иванова Е. В.       17\n",
       "Решение С. М.       16\n",
       "Николаевна          16\n",
       "Ивановна            16\n",
       "Иванова М. В.       16\n",
       "Кузнецова Н. В.     16\n",
       "Новикова Е. В.      16\n",
       "Морозов А. В.       16\n",
       "Петров А. А.        16\n",
       "Иванов В. В.        15\n",
       "Самитов А. А.       15\n",
       "Кузнецов А. А.      15\n",
       "Name: page, dtype: int64"
      ]
     },
     "execution_count": 7,
     "metadata": {},
     "output_type": "execute_result"
    }
   ],
   "source": [
    "fios_top[:30]"
   ]
  },
  {
   "cell_type": "markdown",
   "metadata": {},
   "source": [
    "Сколько раз повторяется одно и то же ФИО (кол-во повторов ФИО - кол-во упоминаний с таким кол-вом повторов)"
   ]
  },
  {
   "cell_type": "code",
   "execution_count": 8,
   "metadata": {},
   "outputs": [
    {
     "data": {
      "text/plain": [
       "1     85340\n",
       "2      7294\n",
       "3      1925\n",
       "4       697\n",
       "5       316\n",
       "6       176\n",
       "7        99\n",
       "8        51\n",
       "9        34\n",
       "10       28\n",
       "11       12\n",
       "12       12\n",
       "13        9\n",
       "14        9\n",
       "15        4\n",
       "16        8\n",
       "17        2\n",
       "18        2\n",
       "19        4\n",
       "21        1\n",
       "22        2\n",
       "23        1\n",
       "24        2\n",
       "25        2\n",
       "29        1\n",
       "47        1\n",
       "81        1\n",
       "Name: page, dtype: int64"
      ]
     },
     "execution_count": 8,
     "metadata": {},
     "output_type": "execute_result"
    }
   ],
   "source": [
    "fios_top.sort_values(ascending=False).value_counts().sort_index()"
   ]
  },
  {
   "cell_type": "markdown",
   "metadata": {},
   "source": [
    "# Популярные комментарии"
   ]
  },
  {
   "cell_type": "markdown",
   "metadata": {},
   "source": [
    "Построение графика повторяемости комментариев"
   ]
  },
  {
   "cell_type": "code",
   "execution_count": 9,
   "metadata": {
    "collapsed": true
   },
   "outputs": [],
   "source": [
    "x = range(2, 101)\n",
    "df13 = df[(df.part<4)&(df.list_flag==False)]\n",
    "df13p = df13[df13.comment_class==1]\n",
    "df13pp = df13p[df13p.resolution_class==1]\n",
    "df13n = df13[df13.comment_class==-1]\n",
    "df13np = df13n[df13n.resolution_class==1]"
   ]
  },
  {
   "cell_type": "code",
   "execution_count": 10,
   "metadata": {},
   "outputs": [
    {
     "name": "stderr",
     "output_type": "stream",
     "text": [
      "100%|██████████| 99/99 [00:05<00:00, 18.08it/s]\n",
      "100%|██████████| 99/99 [00:05<00:00, 18.04it/s]\n",
      "100%|██████████| 99/99 [00:01<00:00, 57.64it/s]\n",
      "100%|██████████| 99/99 [00:00<00:00, 382.56it/s]\n"
     ]
    }
   ],
   "source": [
    "y_p = [sum(df13p.comment_popularity>=i) for i in tqdm(x)]\n",
    "y_pp = [sum(df13pp.comment_popularity>=i) for i in tqdm(x)]\n",
    "y_n = [sum(df13n.comment_popularity>=i) for i in tqdm(x)]\n",
    "y_np = [sum(df13np.comment_popularity>=i) for i in tqdm(x)]"
   ]
  },
  {
   "cell_type": "code",
   "execution_count": 11,
   "metadata": {},
   "outputs": [
    {
     "data": {
      "text/plain": [
       "<matplotlib.text.Text at 0x10fde6828>"
      ]
     },
     "execution_count": 11,
     "metadata": {},
     "output_type": "execute_result"
    },
    {
     "data": {
      "image/png": "[encoded data removed]",
      "text/plain": [
       "<matplotlib.figure.Figure at 0x11466c940>"
      ]
     },
     "metadata": {},
     "output_type": "display_data"
    }
   ],
   "source": [
    "plt.figure(figsize=(9,6), dpi=96)\n",
    "plt.plot(x, y_n)\n",
    "plt.plot(x, y_np)\n",
    "plt.plot(x, y_p)\n",
    "plt.plot(x, y_pp)\n",
    "plt.legend(['Против', 'Принятые Против', 'За','Принятые За'])\n",
    "plt.title('Количество повторяемых точь-в-точь комментариев в приложениях 1-3, не являющихся списочными')\n",
    "plt.xlabel('Количество повторов')\n",
    "plt.ylabel('Количество комментариев')"
   ]
  },
  {
   "cell_type": "code",
   "execution_count": 12,
   "metadata": {},
   "outputs": [
    {
     "data": {
      "text/plain": [
       "0"
      ]
     },
     "execution_count": 12,
     "metadata": {},
     "output_type": "execute_result"
    }
   ],
   "source": [
    "y_np[-1]"
   ]
  },
  {
   "cell_type": "code",
   "execution_count": 13,
   "metadata": {},
   "outputs": [
    {
     "data": {
      "text/plain": [
       "8275"
      ]
     },
     "execution_count": 13,
     "metadata": {},
     "output_type": "execute_result"
    }
   ],
   "source": [
    "y_pp[-1]"
   ]
  },
  {
   "cell_type": "markdown",
   "metadata": {},
   "source": [
    "# Разброс популярных комментариев по страницам"
   ]
  },
  {
   "cell_type": "markdown",
   "metadata": {},
   "source": [
    "У меня вызывают большое подозрение комментарии, которые повторяются кучу раз добуквенно в разных местах документа. Комментарий длиной в 1000 символов ну не может случайно повториться на разных страницах с интервалом в 1000."
   ]
  },
  {
   "cell_type": "code",
   "execution_count": 14,
   "metadata": {
    "collapsed": true,
    "scrolled": false
   },
   "outputs": [],
   "source": [
    "top_comments_dict = df[(~df.list_flag)&(df.comment_len>60)].comment.value_counts()\n",
    "top_comments = list(top_comments_dict[:100].index)"
   ]
  },
  {
   "cell_type": "code",
   "execution_count": 15,
   "metadata": {
    "scrolled": false
   },
   "outputs": [
    {
     "name": "stdout",
     "output_type": "stream",
     "text": [
      "1540 Я , житель Юго-Западного округа Москвы, выступаю за равномерное и гармоничное развитие нашего города и поэтому поддерживаю проект Правил землепользования и застройки. Правила землепользования и застройки обеспечат своевременное строительство новых социальных объектов, обновление и грамотное использование промышленных территорий, защиту сложившейся городской среды и исторической застройки старых московских районов. Правила землепользования и застройки сделают сферу строительства в Москве прозрачной и упорядоченной, минимизируют бюрократическую волокиту и коррупционную составляющую, а значит, сделают наш город более благополучным. Я поддерживаю проект Правил землепользования и застройки г. Москвы\n",
      "\n",
      " [6707, 6708, 6709, 6710, 6711, 6712, 6713, 6714, 6715, 6716, 6717, 6718, 6719, 6720, 6746, 6747, 6748, 6749, 6750, 6751, 6752, 6753, 6754, 6755, 6756, 6757, 6758, 6759, 6760, 6761, 6762, 6763, 6764, 6765, 6766, 6767, 6768, 6769, 6770, 6771, 6772, 6773, 6774, 6775, 6776, 6777, 6778, 6779, 6780, 6781, 6782, 6783, 6784, 6785, 6786, 6787, 6788, 6789, 6790, 6791, 6792, 6793, 6794, 6795, 6796, 6797, 6798, 6799, 6800, 6801, 6802, 6803, 6804, 6805, 6806, 6807, 6808, 6809, 6810, 6811, 6882, 6883, 6884, 6885, 6886, 6887, 6888, 6889, 6890, 6891, 6892, 6893, 6894, 6895, 6896, 6897, 6898, 6899, 6900, 6901, 6902, 6903, 6904, 6905, 6906, 6907, 6908, 6909, 6910, 6911, 6912, 6913, 6914, 6915, 6916, 6917, 6918, 6919, 6920, 6921, 6922, 6923, 6924, 6925, 6933, 6952, 6953, 6954, 6955, 6956, 6957, 6958, 6959, 6960, 6961, 6962, 6963, 6964, 6965, 6966, 6967, 6968, 6969, 6970, 6971, 6972, 6973, 6974, 6975, 6976, 6977, 6978, 6979, 6980, 6981, 6982, 6983, 6984, 7103, 7104, 7105, 7106, 7107, 7108, 7109, 7110, 7111, 7112, 7113, 7114, 7115, 7116, 7117, 7118, 7119, 7120, 7121, 7122, 7174, 7175, 7176, 7177, 7178, 7205, 7206, 7207, 7208, 7209, 7210, 7211, 7212, 7213, 7214, 7215, 7216, 7217, 7218, 7219, 7220, 7221, 7222, 7223, 7224, 7225, 7226, 7227, 7228, 7229, 7230, 7231, 7232, 7233, 7234, 7235, 7236, 7237, 7238, 7239, 7240, 7241, 7242, 7243, 7244, 7245, 7246, 7247, 7248, 7249, 7250, 7251, 7252, 7253, 7254, 7256, 7257, 7258, 7259, 7260, 7261, 7262, 7263, 7264, 7265, 7266, 7267, 7268, 7269, 7270, 7271, 7272, 7273, 7274, 7275, 7276, 7280, 7281, 7282, 7283, 7284, 7293, 7294, 7295, 7296, 7297, 7298, 7299, 7300, 7301, 7311, 7312, 7313, 7314, 7315, 7316, 7317, 7318, 7319, 7320, 7321, 7322, 7323, 7324, 7325, 7326, 7327, 7328, 7329, 7330, 7331, 7332, 7333, 7334, 7335, 7336, 7337, 7338, 7339, 7340, 7341, 7342, 7343, 7344, 7345, 7346, 7347, 7348, 7349, 7364, 7365, 7366, 7367, 7368, 7369, 7370, 7371, 7372, 7373, 7374, 7375, 7376, 7377, 7378, 7379, 7380, 7381, 7382, 7383, 7384, 7385, 7386, 7387, 7388, 7416, 7417, 7418, 7419, 7420, 7421, 7422, 7424, 7429, 7433, 7439, 7440, 7441, 7442, 7443, 7444, 7445, 7446, 7447, 7448, 7449, 7450, 7451, 7452, 7453, 7454, 7455, 7456, 7457, 7458, 7459, 7460, 7461, 7462, 7463, 7464, 7465, 7468, 7469, 7470, 7473, 7474, 7475, 7476, 7477, 7478, 7479, 7480, 7481, 7482, 7483, 7484, 7485, 7487, 7488, 7489, 7490, 7491, 7492, 7495, 7496, 7497, 7498, 7499, 7500, 7501, 7502]\n",
      "\n",
      "\n",
      "---\n",
      "\n",
      "\n",
      "1468 Москве нужен порядок в сфере строительства и прозрачность во всех градостроительных процессах, поэтому я выступаю за проект Правил землепользования и застройки. Я против густонаселенных районов без подобающей современному городу инфраструктуры, против точечных объектов, нарушающих сложившуюся среду наших районов. Я за сохранение уникального облика Москвы и закрепление сегодняшнего положения в городе. Правила землепользования и застройки фиксируют текущее состояние города и оставляют места под строительство необходимых для москвичей социальных объектов – школ, детских садов, поликлиник и спортивных комплексов. Я поддерживаю Правила землепользования и застройки г. Москвы\n",
      "\n",
      " [6689, 6690, 6691, 6692, 6693, 6694, 6695, 6696, 6697, 6698, 6699, 6700, 6701, 6702, 6703, 6704, 6705, 6706, 6707, 6720, 6721, 6722, 6723, 6724, 6725, 6726, 6727, 6728, 6729, 6730, 6731, 6732, 6733, 6734, 6735, 6736, 6737, 6738, 6739, 6740, 6741, 6742, 6743, 6744, 6745, 6746, 6811, 6812, 6813, 6814, 6815, 6816, 6817, 6818, 6819, 6820, 6821, 6822, 6823, 6824, 6825, 6826, 6827, 6828, 6829, 6830, 6831, 6832, 6833, 6834, 6835, 6836, 6837, 6838, 6839, 6840, 6841, 6842, 6843, 6844, 6845, 6846, 6847, 6848, 6849, 6850, 6851, 6852, 6853, 6854, 6855, 6856, 6857, 6858, 6859, 6860, 6861, 6862, 6863, 6864, 6865, 6866, 6867, 6868, 6869, 6870, 6871, 6872, 6873, 6874, 6875, 6876, 6877, 6878, 6879, 6880, 6881, 6925, 6926, 6927, 6928, 6929, 6930, 6931, 6932, 6933, 6934, 6935, 6936, 6937, 6938, 6939, 6940, 6941, 6942, 6943, 6944, 6945, 6946, 6947, 6948, 6949, 6950, 6951, 7086, 7087, 7088, 7089, 7090, 7091, 7092, 7093, 7094, 7095, 7096, 7097, 7098, 7099, 7100, 7101, 7102, 7166, 7167, 7168, 7169, 7170, 7171, 7172, 7173, 7177, 7178, 7179, 7180, 7181, 7182, 7183, 7184, 7185, 7186, 7187, 7188, 7189, 7190, 7191, 7192, 7193, 7194, 7195, 7196, 7197, 7198, 7199, 7200, 7201, 7202, 7203, 7204, 7250, 7254, 7255, 7256, 7257, 7258, 7268, 7269, 7277, 7278, 7279, 7284, 7285, 7286, 7287, 7288, 7289, 7290, 7291, 7292, 7293, 7302, 7303, 7304, 7305, 7306, 7307, 7308, 7309, 7310, 7311, 7326, 7349, 7350, 7351, 7352, 7353, 7354, 7355, 7356, 7357, 7358, 7359, 7360, 7361, 7362, 7363, 7364, 7373, 7388, 7389, 7390, 7391, 7392, 7393, 7394, 7395, 7396, 7397, 7398, 7399, 7400, 7401, 7402, 7403, 7404, 7405, 7406, 7407, 7408, 7409, 7410, 7411, 7412, 7413, 7414, 7415, 7416, 7422, 7423, 7424, 7425, 7426, 7427, 7428, 7429, 7430, 7431, 7432, 7433, 7434, 7435, 7436, 7437, 7438, 7439, 7444, 7446, 7447, 7449, 7451, 7453, 7454, 7455, 7456, 7457, 7458, 7461, 7462, 7463, 7466, 7467, 7468, 7471, 7472, 7473, 7478, 7479, 7485, 7486, 7487, 7492, 7493, 7494, 7495, 7496, 7497]\n",
      "\n",
      "\n",
      "---\n",
      "\n",
      "\n",
      "869 Я, житель Юго-Западного округа Москвы, выступаю за равномерное и гармоничное развитие нашего города и поэтому поддерживаю проект Правил землепользования и застройки.\n",
      "Правила землепользования и застройки обеспечат своевременное строительство новых социальных объектов, обновление и грамотное использование промышленных территорий, защиту сложившейся городской среды и исторической застройки старых московских районов.\n",
      "Правила землепользования и застройки сделают сферу строительства в Москве прозрачной и упорядоченной, минимизируют бюрократическую волокиту и коррупционную составляющую, а значит, сделают наш город более благополучным.\n",
      "Я поддерживаю проект Правил землепользования и застройки г. Москвы\n",
      "\n",
      " [6086, 6087, 6088, 6089, 6090, 6091, 6092, 6093, 6094, 6095, 6096, 6097, 6098, 6099, 6100, 6101, 6102, 6103, 6104, 6105, 6106, 6107, 6108, 6109, 6110, 6246, 6247, 6248, 6249, 6250, 6251, 6252, 6253, 6254, 6255, 6256, 6257, 6258, 6259, 6260, 6261, 6262, 6263, 6264, 6265, 6266, 6267, 6268, 6269, 6270, 6271, 6272, 6273, 6274, 6275, 6276, 6277, 6278, 6279, 6280, 6281, 6282, 6283, 6284, 6285, 6286, 6287, 6288, 6289, 6290, 6291, 6292, 6293, 6294, 6295, 6296, 6297, 6298, 6299, 6300, 6301, 6302, 6303, 6304, 6305, 6306, 6307, 6308, 6309, 6310, 6311, 6312, 6313, 6314, 6315, 6316, 6317, 6318, 6319, 6320, 6321, 6322, 6323, 6324, 6325, 6326, 6327, 6328, 6329, 6330, 6331, 6332, 6333, 6334, 6335, 6336, 6337, 6338, 6339, 6340, 6341, 6342, 6343, 6344, 6345, 6346, 6347, 6348, 6349, 6350, 6351, 6352, 6353, 6354, 6355, 6356, 6357, 6358, 6359, 6360, 6361, 6362, 6363, 6364, 6365, 6366, 6367, 6368, 6369, 6370, 6371, 6372, 6373, 6374, 6375, 6376, 6377, 6378, 6379, 6380, 6381, 6382, 6383, 6384, 6385, 6386, 6387, 6388, 6389, 6390, 6391, 6392, 6393, 6394, 6395, 6396, 6397, 6398, 6399, 6400, 6401, 6402, 6403, 6404, 6405, 6406, 6407, 6408, 6409, 6410, 6411, 6412, 6413, 6414, 6415, 6416, 6417, 6418, 6419, 6420, 6421, 6422, 6423, 6424, 6425, 6426, 6427, 6428, 6429, 6430, 6431, 6432, 6433, 6434, 6435, 6436, 6437, 6438, 6439, 6440, 6441, 6442, 6443, 6444, 6445, 6446, 6447, 6448, 6449, 6450, 6451, 6452, 6453, 6454, 6455, 6456, 6457, 6458, 6459, 6460, 6461, 6462, 6463, 6464, 6465, 6473, 7661, 7662, 7663, 7664, 7665, 7666, 7667, 7668, 7669, 7670, 7671, 7672, 7673, 7674, 7675, 7676, 7678, 7679, 7680, 7681, 7682, 7683, 7684, 7685, 7686, 7687, 7688, 7689, 7690, 7691, 7692, 7693, 7694, 7695, 7696, 7697, 7698, 7699, 7700, 7701, 7702, 7703, 7704, 7705, 7706, 7707, 7724, 7725, 7726, 7727, 7728, 7729, 7730, 7731, 7732, 7733, 7734, 7735, 7736, 7737, 7738, 7739, 7740, 7741, 7840, 7841, 7842, 7843, 7844, 7845, 7846, 7847, 7848, 7849, 7850, 7851, 7852, 7853, 7854, 7855, 7856, 7857, 7858, 7859, 7860, 7861, 7862, 7863, 7864, 7865, 7866, 7867, 7868, 7869, 7870, 7871]\n",
      "\n",
      "\n",
      "---\n",
      "\n",
      "\n",
      "477 С проектом Правил землепользования и застройки ознакомлен, замечаний не имею\n",
      "\n",
      " [9740, 9755, 9767, 9778, 9779, 9780, 9781, 9782, 9784, 9795, 9796, 9797, 9798, 9799, 9803, 9804, 9805, 9817, 9818, 9821, 9825, 9844, 9845, 9846, 9847, 9848, 9849, 9850, 9904, 9905, 9906]\n",
      "\n",
      "\n",
      "---\n",
      "\n",
      "\n",
      "392 Москве нужен порядок в сфере строительства и прозрачность во всех градостроительных процессах, поэтому я выступаю за проект Правил землепользования и застройки.\n",
      "Я против густонаселенных районов без подобающей современному городу инфраструктуры, против точечных объектов, нарушающих сложившуюся среду наших районов, Я за сохранение уникального облика Москвы и закрепление сегодняшнего положения в городе.\n",
      "Правила землепользования и застройки фиксируют текущее состояние города и оставляют места под строительство необходимых для москвичей социальных объектов - школ, детских садов, поликлиник и спортивных комплексов.\n",
      "Я поддерживаю Правила землепользования и застройки г. Москвы.\n",
      "\n",
      " [6175, 6176, 6177, 6178, 6179, 6180, 6181, 6182, 6183, 6184, 6185, 6186, 6187, 6188, 6189, 6190, 6191, 6192, 6193, 6194, 6195, 6196, 6197, 6198, 6199, 6200, 6201, 6202, 6203, 6204, 6205, 6206, 6207, 6208, 6209, 6210, 6211, 6212, 6213, 6214, 6215, 6216, 6217, 6218, 6219, 6220, 6221, 6222, 6223, 6224, 6225, 6226, 6227, 6228, 6229, 6230, 6231, 6232, 6233, 6234, 6235, 6236, 6237, 6238, 6239, 6240, 6241, 6242, 6243, 6244, 6245, 7716, 7717, 7718, 7753, 7754, 7755, 7756, 7757, 7758, 7759, 7760, 7761, 7762, 7763, 7764, 7765, 7766, 7767, 7768, 7769, 7770, 7771, 7772, 7773, 7774, 7775, 7776, 7777, 7778, 7779, 7780, 7781, 7782, 7783, 7784, 7785, 7786, 7787, 7788]\n",
      "\n",
      "\n",
      "---\n",
      "\n",
      "\n",
      "352 С проектом ПЗЗ ознакомлен. Проект поддерживаю, в СЗАО необходимо строительство новых детских садов и школ.\n",
      "\n",
      " [9674, 9675, 9676, 9829, 9830, 9831, 9832, 10013, 10014, 10015, 10016, 10017, 10018, 10052, 10053, 10054, 10055, 10056]\n",
      "\n",
      "\n",
      "---\n",
      "\n",
      "\n",
      "337 Я , житель Юго-Западного округа Москвы, выступаю за равномерное и гармоничное  развитие нашего города и поэтому поддерживаю проект Правил землепользования и застройки. Правила землепользования и застройки обеспечат своевременное строительство новых социальных объектов, обновление и грамотное использование промышленных территорий, защиту сложившейся городской среды и исторической застройки старых московских районов. Правила землепользования и застройки сделают сферу строительства в Москве прозрачной и упорядоченной, минимизируют бюрократическую волокиту и коррупционную составляющую, а значит, сделают наш город более благополучным. Я поддерживаю проект Правил землепользования и застройки г. Москвы\n",
      "\n",
      " [6708, 6709, 6711, 6712, 6714, 6715, 6718, 6720, 6747, 6748, 6750, 6751, 6754, 6756, 6758, 6759, 6761, 6762, 6763, 6765, 6766, 6768, 6769, 6771, 6775, 6777, 6778, 6780, 6781, 6785, 6786, 6789, 6790, 6791, 6793, 6794, 6796, 6798, 6800, 6802, 6804, 6805, 6807, 6808, 6810, 6811, 6883, 6884, 6886, 6889, 6891, 6893, 6894, 6896, 6897, 6899, 6900, 6902, 6903, 6906, 6908, 6910, 6912, 6913, 6916, 6918, 6919, 6921, 6922, 6925, 6933, 6951, 6953, 6954, 6956, 6957, 6959, 6961, 6963, 6965, 6966, 6968, 6969, 6971, 6972, 6974, 6975, 6978, 6980, 6982, 6984, 7102, 7104, 7105, 7107, 7109, 7111, 7113, 7115, 7116, 7118, 7119, 7121, 7122, 7174, 7175, 7206, 7208, 7209, 7212, 7214, 7216, 7217, 7223, 7225, 7226, 7228, 7230, 7231, 7233, 7234, 7236, 7238, 7240, 7242, 7244, 7245, 7247, 7248, 7251, 7252, 7254, 7256, 7260, 7262, 7264, 7265, 7267, 7269, 7272, 7273, 7275, 7277, 7281, 7282, 7284, 7293, 7294, 7296, 7298, 7300, 7301, 7313, 7315, 7317, 7318, 7321, 7323, 7325, 7327, 7328, 7334, 7336, 7337, 7339, 7341, 7342, 7344, 7345, 7347, 7349, 7366, 7368, 7370, 7372, 7373, 7375, 7376, 7378, 7379, 7381, 7382, 7385, 7387, 7417, 7419, 7421, 7429, 7432, 7439, 7440, 7442, 7444, 7445, 7448, 7451, 7452, 7457, 7460, 7468, 7475, 7477, 7479, 7481, 7482, 7484, 7488, 7490, 7498, 7500, 7501]\n",
      "\n",
      "\n",
      "---\n",
      "\n",
      "\n",
      "283 Я, житель Юго-Западного округа Москвы, выступаю за равномерное и гармоничное развитие нашего города и поэтому поддерживаю проект Правил землепользования и застройки.\n",
      "Правила землепользования и застройки обеспечат своевременное строительство новых социальных объектов, обновление и грамотное использование промышленных территорий, защиту сложившейся городской среды и исторической застройки старых московских районов.\n",
      "Правила землепользования и застройки сделают сферу строительства в Москве прозрачной и упорядоченной, минимизируют бюрократическую волокиту и коррупционную составляющую, а значит, сделают наш город более благополучным. Я поддерживаю проект Правил землепользования и застройки г. Москвы\n",
      "\n",
      " [5813, 5814, 5816, 5817, 5820, 5822, 5823, 5825, 5828, 5829, 5831, 5834, 5835, 5837, 5838, 5841, 5843, 5844, 5846, 5849, 5850, 5852, 5855, 5856, 5858, 5859, 5862, 5864, 5865, 5867, 5868, 5870, 5871, 5873, 5876, 5877, 5879, 5880, 5883, 5885, 5886, 5889, 5891, 5892, 5894, 5897, 5898, 5900, 5901, 5904, 5906, 5907, 5910, 5912, 5913, 5915, 5918, 5919, 5921, 5922, 5925, 5927, 5928, 5931, 5933, 5934, 5936, 5939, 5940, 5942, 5943, 5945, 5946, 5948, 5949, 5952, 5954, 5956, 5957, 5958, 5959, 5960, 5961, 5962, 5963, 5964, 5965, 5966, 6000, 6001, 6002, 6003, 6004, 6005, 6006, 6007, 6008, 6009, 6010, 6011, 6012, 6013, 6014, 6015, 6016, 6017, 6029, 6030, 6031, 6032, 6033, 6034, 6035, 6036, 6037, 6038, 6039, 6040, 6060, 6061, 6062, 6063, 6064, 6065, 6066, 6067, 6068, 6069, 6070, 6071, 6072, 6073, 6074, 6075, 6076]\n",
      "\n",
      "\n",
      "---\n",
      "\n",
      "\n",
      "261 Москве нужен порядок в сфере строительства и прозрачность во всех градостроительных процессах, поэтому я выступаю за проект Правил землепользования и застройки.\n",
      "Я против густонаселенных районов без подобающей современному городу инфраструктуры, против точечных объектов, нарушающих сложившуюся среду наших районов, Я за сохранение уникального облика Москвы и закрепление сегодняшнего положения в городе.\n",
      "Правила землепользования и застройки фиксируют текущее состояние города и оставляют места под строительство необходимых для москвичей социальных объектов\n",
      "- школ, детских садов, поликлиник и спортивных комплексов.\n",
      "Я поддерживаю Правила землепользования и застройки г. Москвы.\n",
      "\n",
      " [5983, 5984, 5985, 5986, 5987, 5988, 5989, 5990, 5991, 5992, 5993, 5994, 5995, 5996, 5997, 5998, 5999, 6000, 6018, 6019, 6020, 6021, 6022, 6023, 6024, 6025, 6026, 6027, 6028, 6029, 6041, 6042, 6043, 6044, 6045, 6046, 6047, 6048, 6049, 6050, 6051, 6052, 6053, 6054, 6055, 6056, 6057, 6058, 6059, 6060, 6076, 6146, 6147, 6148, 6149, 6150, 6151, 6152, 6153, 6154, 6155, 6156, 6157, 6158, 6159, 6160, 6161, 6162, 6163, 6164, 6165, 6166, 6167, 6168, 6169, 6170, 6171, 6172, 6173, 6174]\n",
      "\n",
      "\n",
      "---\n",
      "\n",
      "\n",
      "213 Проживающий по адресу:Вилиса Лациса, д. 7 считаю необходимым проект Правил землепользонваия и застройки ПЗЗ г.Москвы. Полагаю, что принятие проекта Правил землепользования застройки приведет к уничтожению противоречий между документами и их трактовками. Кроме того, принятие ПЗЗ приведет к невозможности осуществлять в дальнейшем незаконное строительство в городе Москве путем упорядочения основных показателей обьектов капитального строительстева, в том числе в части зонирования и видов разрешенного использования. В частности, принятие проекта Правил землепользования и застройки позволит разрешить вопросы, возникшие при строительстве жилого дома с детским садом на земельном участке с кадастровым номером 77:08:0009021:1004 по адресу: ул.Живописная, вл. 21. Выступаю за скорейшее завершение строительства этого дома и за благоустройствоо прилегающей к ней территории. Все замечания и предложения по благоустройству ранее были направлены застройщику в рамках публичных слушаний. В связи с вышесказанным, прошу принять проект Правил землепользования и застройки ПЗЗ г.Москвы в целом.\n",
      "\n",
      " [9135, 9136, 9137, 9138, 9139, 9140, 9141, 9142, 9143, 9144, 9145, 9146, 9147, 9148, 9149, 9150, 9151, 9152, 9153, 9154, 9155, 9156, 9157, 9158, 9159, 9160, 9161, 9162, 9708, 9709, 9710, 9711, 9712, 9713, 9714, 9715, 9716, 9717, 9718, 9719, 9720, 9721, 9722, 9723, 9724, 9725, 9726, 9727, 9728, 9729, 9730, 9731, 9732, 9733, 9734, 9738, 9739, 9740, 9741, 9742, 9743, 9744, 9745, 9746, 9747, 9748, 9749, 9750, 9751, 9752, 9753, 9754, 9755, 9756, 9757, 9758, 9759]\n",
      "\n",
      "\n",
      "---\n",
      "\n",
      "\n",
      "176 С пректои Правил зумлепользования и застройки ознакомлен, замечаний не имею\n",
      "\n",
      " [9092, 9639, 9647, 9665, 9666, 9669, 9676, 9677, 9678, 9679, 9686, 9693, 9694, 9695, 9696, 9704, 9705, 9712, 9718]\n",
      "\n",
      "\n",
      "---\n",
      "\n",
      "\n",
      "169 Москве нужен порядок в сфере строительства и прозрачность во всех градостроительных процессах, поэтому я выступаю за проект Правил землепользования и застройки.\n",
      "Я против густонаселенных районов без подобающей современному городу инфраструктуры, против точечных объектов, нарушающих сложившуюся среду наших районов, Я за сохранение уникального облика Москвы и закрепление сегодняшнего положения в городе. Правила землепользования и застройки фиксируют текущее состояние города и оставляют места под строительство необходимых для москвичей социальных объектов - школ, детских садов, поликлиник и спортивных комплексов.\n",
      "Я поддерживаю Правила землепользования и застройки г. Москвы.\n",
      "\n",
      " [5769, 5770, 5771, 5772, 5773, 5774, 7761, 7763, 7764, 7765, 7766, 7767, 7768, 7770, 7771, 7773, 7776, 7777, 7778, 7779, 7781, 7782, 7783, 7785, 7786, 7788, 7794, 7795, 7796, 7797, 7798, 7799, 7800, 7801, 7802, 7803, 7804, 7805, 7806, 7807, 7809, 7810, 7811, 7812, 7813, 7814, 7815, 7816, 7817, 7818, 7819, 7820, 7821, 7822]\n",
      "\n",
      "\n",
      "---\n",
      "\n",
      "\n",
      "108 С проектом Правил зумлепользования и застройки ознакомлен, замечаний не имею\n",
      "\n",
      " [10038, 10039, 10040, 10041, 10042, 10047, 10052, 10059, 10064, 10065, 10066, 10067]\n",
      "\n",
      "\n",
      "---\n",
      "\n",
      "\n",
      "105 Отзыв по проекту Правил землепользования и застройки города Москвы (ПЗЗ) в отношении территории Восточного административного округа. Я полностью поддерживаю данный проект (ПЗЗ). Считаю, что представленный на публичных слушаниях проект Правил землепользования и застройки (проект ПЗЗ) очень подробно проработан, логично выстроен и понятен.\n",
      "\n",
      " [3917, 3918, 3919, 3920, 3921, 3922, 3923, 3924, 3925, 3926, 3927, 3928, 3929, 3930]\n",
      "\n",
      "\n",
      "---\n",
      "\n",
      "\n",
      "97 Я, житель Юго-Западного округа Москвы, выступаю за равномерное и гармоничное развитие нашего города и поэтому поддерживаю проект Правил землепользования и застройки. Правила землепользования и застройки обеспечат своевременное строительство новых социальных объектов, обновление и грамотное использование промышленных территорий, защиту сложившейся городской среды и исторической застройки старых московских районов.\n",
      "Правила землепользования и застройки сделают сферу строительства в Москве прозрачной и упорядоченной, минимизируют бюрократическую волокиту и коррупционную составляющую, а значит, сделают наш город более благополучным.\n",
      "Я поддерживаю проект Правил землепользования и застройки г. Москвы\n",
      "\n",
      " [5759, 5760, 5761, 5762, 5763, 5764, 5765, 5766, 5767, 5768, 5769, 7822, 7823, 7824, 7825, 7826, 7827, 7828, 7829, 7830, 7831, 7832, 7833, 7834]\n",
      "\n",
      "\n",
      "---\n",
      "\n",
      "\n",
      "94 С проектом ПЗЗ ознакомлен. Проект отличный. Возражений по  данному проекту не имею.\n",
      "\n",
      " [9793, 9794, 9795]\n",
      "\n",
      "\n",
      "---\n",
      "\n",
      "\n",
      "86 Я, житель Юго-Западного округа Москвы, выступаю за равномерное и гармоничное развитие нашего города и поэтому поддерживаю проект Правил землепользования и застройки.Правила землепользования и застройки обеспечат своевременное строительство новых социальных объектов, обновление и грамотное использование промышленных территорий, защиту сложившейся городской среды и исторической застройки старых московских районов.Правила землепользования и застройки сделают сферу строительства в Москве прозрачной и упорядоченной, минимизируют бюрократическую волокиту и коррупционную составляющую, а значит, сделают наш город более благополучным.Я поддерживаю проект Правил землепользования и застройки г. Москвы\n",
      "\n",
      " [6246, 6248, 6250, 6252, 6254, 6256, 6258, 6263, 6265, 6266, 6269, 6271, 6273, 6275, 6282, 6284, 6286, 6288, 6290, 6292, 6294, 6299, 6301, 6303, 6305, 6307, 6309, 6311, 6318, 6320, 6322, 6324, 6326, 6328, 6330, 6335, 6337, 6339, 6341, 6343, 6345, 6347, 6354, 6356, 6358, 6360, 6362, 6364, 6366, 6371, 6373, 6375, 6377, 6379, 6381, 6383, 6390, 6392, 6394, 6396, 6398, 6400, 6402, 6407, 6409, 6411, 6413, 6415, 6417, 6419, 6426, 6428, 6430, 6432, 6434, 6436, 6438, 6443, 6445, 6447, 6449, 6451, 6453, 6455, 6462, 6464]\n",
      "\n",
      "\n",
      "---\n",
      "\n",
      "\n",
      "86 В соответствии со ст. 68 Градостроительного кодекса г. Москвы просим внести в Протокол публичных слушаний по «Проекту Правил землепользования и застройки в городе Москве\" наши замечания и предложения.\n",
      "Замечания:\n",
      "Требую отклонить проект ПЗЗ и отправить на доработку.\n",
      "В предложенном документе массово легализуется незаконная уплотнительная застройка. В том числе проекты, остановленные по требованию граждан и отмененные органами исполнительной власти. Проводится легализация незаконно возведенных объектов, документов, противоречащие закону, а также незаконного выделения земельных участков под застройку.\n",
      "Проектом предусматривается фактическая ликвидация публичных слушаний по выделению земельных участков под строительство, что существенно ущемляет права граждан.\n",
      "При определении зон развития, т.е. зон, где возможно новое строительство, игнорируется охранный статус объектов и территорий.\n",
      "Проект противоречит федеральному законодательству, например, в части градостроительного зонирования и использования земельных участков. Проект противоречит Генеральному плану города Москвы.\n",
      "Фактическая цель проекта - обеспечение ничем не ограниченной уплотнительной застройки, что категорически недопустимо.\n",
      "Указанные нарушения носят системный и массовый характер и не могут быть устранены путем внесения в проект Правил землепользования и застройки в городе Москве отдельных дополнений и уточнений.\n",
      "Предложения:\n",
      "ОТКЛОНИТЬ ПРОЕКТ ПЗЗ города Москвы как противоречащий закону и нарушающий права граждан, отозвать и отправить на доработку.\n",
      "\n",
      " [1440, 1442, 1444, 1445, 1446, 1447, 1448, 1449, 1450, 1451, 1452, 1453, 1454, 1456, 1458, 1460, 1461, 1462, 1463, 1464, 1465, 1466, 1467, 1468, 1470, 1472, 1474, 1475, 1477, 1479, 1480, 1481, 1482, 1483, 1484, 1485, 1487, 1489, 1491, 1492, 1493, 1494, 1495, 1496, 1497, 1498, 1499, 1500, 1501, 1502, 1503, 1504, 1505, 1506, 1507, 1508, 1510, 1512, 1513, 1515, 1516, 1517, 1518, 1519, 1521, 1522, 1523, 1524, 1525, 1527, 1529, 1531, 1532, 1533, 1534, 1535, 1536, 1537, 1538, 1539, 1540, 1541, 1542]\n",
      "\n",
      "\n",
      "---\n",
      "\n",
      "\n",
      "80 Я поддерживаю проект ПЗЗ Пусть соблюдают все правила и границы\n",
      "\n"
     ]
    },
    {
     "name": "stdout",
     "output_type": "stream",
     "text": [
      " [8341, 8342, 8343, 8344, 8345, 8348, 8349]\n",
      "\n",
      "\n",
      "---\n",
      "\n",
      "\n",
      "73 С проектом ПЗЗ ознакомлен. Проект поддерживаю,в СЗАО необходимо строительство новых детских садов и школ.\n",
      "\n",
      " [9672, 9679, 9680, 9681, 9682]\n",
      "\n",
      "\n",
      "---\n",
      "\n",
      "\n"
     ]
    }
   ],
   "source": [
    "for c in top_comments[:20]:\n",
    "    print(top_comments_dict[c], c)\n",
    "    print('\\n', sorted(set(df[df.comment==c].page)))\n",
    "    print('\\n\\n---\\n\\n')"
   ]
  },
  {
   "cell_type": "markdown",
   "metadata": {},
   "source": [
    "-----"
   ]
  }
 ],
 "metadata": {
  "anaconda-cloud": {},
  "kernelspec": {
   "display_name": "Python [Root]",
   "language": "python",
   "name": "Python [Root]"
  },
  "language_info": {
   "codemirror_mode": {
    "name": "ipython",
    "version": 3
   },
   "file_extension": ".py",
   "mimetype": "text/x-python",
   "name": "python",
   "nbconvert_exporter": "python",
   "pygments_lexer": "ipython3",
   "version": "3.5.2"
  }
 },
 "nbformat": 4,
 "nbformat_minor": 2
}
